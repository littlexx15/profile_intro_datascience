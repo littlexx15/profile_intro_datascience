{
 "cells": [
  {
   "cell_type": "markdown",
   "metadata": {},
   "source": [
    "# Week 7 – 模型公平性分析项目\n",
    "\n",
    "本项目演示了如何使用 **Fairlearn** 库对模型进行公平性评估与改进。我们以美国司法系统数据（ProPublica 数据集）为例，预测个体在两年内是否会再犯，并探讨模型在不同群体（非裔 vs. 非非裔）之间的表现差异。\n",
    "\n",
    "## 项目背景与目标\n",
    "在某些应用场景（如司法、医疗、招聘），模型预测可能对不同群体带来不公平影响。我们需要识别和量化这种不公平性，并尝试改进模型，使其在保持良好性能的同时尽量减少群体差异。\n",
    "\n",
    "## 本项目内容\n",
    "1. **数据加载与预处理**：读取 ProPublica 提供的数据集，并选取目标列（是否再犯）和敏感属性（非裔与否）。\n",
    "2. **训练多个模型**：\n",
    "   - Baseline：普通逻辑回归\n",
    "   - Postprocessing：ThresholdOptimizer 后处理模型\n",
    "   - ExponentiatedGradient：在训练过程中直接约束 EqualizedOdds\n",
    "3. **公平性指标与可视化**：计算 `Equalized Odds`、`FPR`、`FNR` 等指标，并用 Plotly 生成一些图表。\n",
    "4. **反思**：对过程中使用的工具、遇到的挑战和结果进行总结。\n",
    "\n",
    "## 主要依赖包\n",
    "- `pandas`、`numpy` 等用于数据处理\n",
    "- `scikit-learn` 用于模型训练与评估\n",
    "- `fairlearn` 用于公平性指标和后处理\n",
    "- `plotly` 用于可视化\n",
    "\n",
    "下面我们开始具体的代码示例。"
   ]
  },
  {
   "cell_type": "markdown",
   "metadata": {},
   "source": [
    "## 1. 导入库与数据加载\n",
    "\n",
    "**思路**：\n",
    "1. 我们先导入常用的 Python 数据科学库和公平性库。\n",
    "2. 从 CSV 文件中读取数据，并查看基本信息。\n",
    "3. 指定目标列 `y` 和特征 `X`，以及敏感属性 `African_American`。"
   ]
  },
  {
   "cell_type": "code",
   "execution_count": 6,
   "metadata": {
    "collapsed": false
   },
   "outputs": [
    {
     "name": "stdout",
     "output_type": "stream",
     "text": [
      "数据列名: Index(['Two_yr_Recidivism', 'Number_of_Priors', 'score_factor',\n",
      "       'Age_Above_FourtyFive', 'Age_Below_TwentyFive', 'African_American',\n",
      "       'Asian', 'Hispanic', 'Native_American', 'Other', 'Female',\n",
      "       'Misdemeanor'],\n",
      "      dtype='object')\n",
      "   Two_yr_Recidivism  Number_of_Priors  score_factor  Age_Above_FourtyFive  \\\n",
      "0                  0                 0             0                     1   \n",
      "1                  1                 0             0                     0   \n",
      "2                  1                 4             0                     0   \n",
      "3                  0                 0             0                     0   \n",
      "4                  1                14             1                     0   \n",
      "\n",
      "   Age_Below_TwentyFive  African_American  Asian  Hispanic  Native_American  \\\n",
      "0                     0                 0      0         0                0   \n",
      "1                     0                 1      0         0                0   \n",
      "2                     1                 1      0         0                0   \n",
      "3                     0                 0      0         0                0   \n",
      "4                     0                 0      0         0                0   \n",
      "\n",
      "   Other  Female  Misdemeanor  \n",
      "0      1       0            0  \n",
      "1      0       0            0  \n",
      "2      0       0            0  \n",
      "3      1       0            1  \n",
      "4      0       0            0  \n"
     ]
    }
   ],
   "source": [
    "import pandas as pd\n",
    "import numpy as np\n",
    "import matplotlib.pyplot as plt\n",
    "import seaborn as sns\n",
    "\n",
    "from sklearn.model_selection import train_test_split\n",
    "from sklearn.linear_model import LogisticRegression\n",
    "from sklearn.metrics import accuracy_score, roc_auc_score, roc_curve\n",
    "\n",
    "from fairlearn.metrics import MetricFrame, false_positive_rate, false_negative_rate, equalized_odds_difference\n",
    "from fairlearn.postprocessing import ThresholdOptimizer\n",
    "from fairlearn.reductions import ExponentiatedGradient, EqualizedOdds\n",
    "\n",
    "import plotly.express as px\n",
    "import plotly.graph_objects as go\n",
    "\n",
    "# ============== 数据加载 ==============\n",
    "data_path = \"./data/propublica_data_for_fairml.csv\"  # 你需要改成实际文件路径\n",
    "data = pd.read_csv(data_path)\n",
    "\n",
    "print(\"数据列名:\", data.columns)\n",
    "print(data.head())\n",
    "\n",
    "# ============== 目标变量与特征 ==============\n",
    "y = data[\"Two_yr_Recidivism\"]\n",
    "X = data.drop(columns=[\"Two_yr_Recidivism\"])\n",
    "\n",
    "# 这里我们假设敏感列名叫 'African_American'，你要根据实际列名替换\n",
    "sensitive_name = \"African_American\"  # 如果不一样，请修改\n",
    "sensitive_features = X[sensitive_name]\n",
    "\n",
    "# 划分训练集和测试集\n",
    "X_train, X_test, y_train, y_test = train_test_split(\n",
    "    X, y, test_size=0.3, random_state=42, stratify=y\n",
    ")"
   ]
  },
  {
   "cell_type": "markdown",
   "metadata": {},
   "source": [
    "## 2. 训练三个模型\n",
    "\n",
    "**思路**：\n",
    "1. **基线模型**：普通逻辑回归，不做任何公平性约束。\n",
    "2. **后处理模型**：训练完基线后，用 `ThresholdOptimizer` 对输出概率做后处理，强制满足 `equalized_odds`。\n",
    "3. **ExponentiatedGradient**：在训练阶段直接对 `LogisticRegression` 加入公平性约束。\n",
    "\n",
    "最后，我们会计算各模型的准确率（Accuracy）、AUC、`Equalized Odds` 指标。"
   ]
  },
  {
   "cell_type": "code",
   "execution_count": 7,
   "metadata": {
    "collapsed": false
   },
   "outputs": [
    {
     "name": "stdout",
     "output_type": "stream",
     "text": [
      "\n",
      "=== 各模型指标对比 ===\n",
      "            Model  Accuracy       AUC  Equalized_Odds  Error_Rate\n",
      "0        Baseline  0.683585  0.737569        0.268367    0.316415\n",
      "1  Postprocessing  0.652808  0.665828        0.013208    0.347192\n",
      "2     ExpGradient  0.677106  0.666196        0.028665    0.322894\n"
     ]
    }
   ],
   "source": [
    "# ============== (1) 基线模型：逻辑回归 ==============\n",
    "baseline_model = LogisticRegression(max_iter=1000)\n",
    "baseline_model.fit(X_train, y_train)\n",
    "\n",
    "y_pred_baseline = baseline_model.predict(X_test)\n",
    "y_pred_proba_baseline = baseline_model.predict_proba(X_test)[:, 1]\n",
    "\n",
    "acc_baseline = accuracy_score(y_test, y_pred_baseline)\n",
    "auc_baseline = roc_auc_score(y_test, y_pred_proba_baseline)\n",
    "eod_baseline = equalized_odds_difference(\n",
    "    y_test, y_pred_baseline,\n",
    "    sensitive_features=X_test[sensitive_name]\n",
    ")\n",
    "\n",
    "# 计算分组指标\n",
    "metrics = {\n",
    "    \"accuracy\": accuracy_score,\n",
    "    \"fpr\": false_positive_rate,\n",
    "    \"fnr\": false_negative_rate\n",
    "}\n",
    "metric_frame_baseline = MetricFrame(\n",
    "    metrics=metrics,\n",
    "    y_true=y_test,\n",
    "    y_pred=y_pred_baseline,\n",
    "    sensitive_features=X_test[sensitive_name]\n",
    ")\n",
    "\n",
    "# ============== (2) 后处理模型：ThresholdOptimizer ==============\n",
    "post_model = ThresholdOptimizer(\n",
    "    estimator=baseline_model,\n",
    "    constraints=\"equalized_odds\",\n",
    "    objective=\"accuracy_score\",\n",
    "    prefit=True,\n",
    "    predict_method=\"predict_proba\"\n",
    ")\n",
    "post_model.fit(X_train, y_train, sensitive_features=X_train[sensitive_name])\n",
    "y_pred_post = post_model.predict(X_test, sensitive_features=X_test[sensitive_name])\n",
    "\n",
    "# 试图获取概率\n",
    "try:\n",
    "    y_pred_proba_post = post_model._pmf_predict(X_test, sensitive_features=X_test[sensitive_name])\n",
    "    if y_pred_proba_post.ndim == 2:\n",
    "        y_pred_proba_post = y_pred_proba_post[:, 1]\n",
    "except:\n",
    "    y_pred_proba_post = np.zeros_like(y_pred_baseline)\n",
    "\n",
    "acc_post = accuracy_score(y_test, y_pred_post)\n",
    "auc_post = (roc_auc_score(y_test, y_pred_proba_post)\n",
    "            if np.any(y_pred_proba_post) else np.nan)\n",
    "eod_post = equalized_odds_difference(\n",
    "    y_test, y_pred_post,\n",
    "    sensitive_features=X_test[sensitive_name]\n",
    ")\n",
    "metric_frame_post = MetricFrame(\n",
    "    metrics=metrics,\n",
    "    y_true=y_test,\n",
    "    y_pred=y_pred_post,\n",
    "    sensitive_features=X_test[sensitive_name]\n",
    ")\n",
    "\n",
    "# ============== (3) 训练时公平约束模型：ExponentiatedGradient ==============\n",
    "exp_model = ExponentiatedGradient(\n",
    "    estimator=LogisticRegression(max_iter=1000),\n",
    "    constraints=EqualizedOdds()\n",
    ")\n",
    "exp_model.fit(X_train, y_train, sensitive_features=X_train[sensitive_name])\n",
    "y_pred_exp = exp_model.predict(X_test)\n",
    "\n",
    "# 由于 predict_proba 可能不可用，这里只做类别评估\n",
    "acc_exp = accuracy_score(y_test, y_pred_exp)\n",
    "auc_exp = roc_auc_score(y_test, y_pred_exp)  # 仅作示例，不是最优做法\n",
    "eod_exp = equalized_odds_difference(\n",
    "    y_test, y_pred_exp,\n",
    "    sensitive_features=X_test[sensitive_name]\n",
    ")\n",
    "metric_frame_exp = MetricFrame(\n",
    "    metrics=metrics,\n",
    "    y_true=y_test,\n",
    "    y_pred=y_pred_exp,\n",
    "    sensitive_features=X_test[sensitive_name]\n",
    ")\n",
    "\n",
    "# ============== 汇总结果 ==============\n",
    "results_df = pd.DataFrame({\n",
    "    \"Model\": [\"Baseline\", \"Postprocessing\", \"ExpGradient\"],\n",
    "    \"Accuracy\": [acc_baseline, acc_post, acc_exp],\n",
    "    \"AUC\": [auc_baseline, auc_post, auc_exp],\n",
    "    \"Equalized_Odds\": [eod_baseline, eod_post, eod_exp]\n",
    "})\n",
    "\n",
    "results_df[\"Error_Rate\"] = 1 - results_df[\"Accuracy\"]\n",
    "print(\"\\n=== 各模型指标对比 ===\")\n",
    "print(results_df)\n"
   ]
  },
  {
   "cell_type": "markdown",
   "metadata": {},
   "source": [
    "## 3. 可视化：Plotly 图表\n",
    "\n",
    "我们展示几类图：\n",
    "1. **分布图**：`Two_yr_Recidivism` 在不同群体中的分布\n",
    "2. **柱状图**：基线模型在不同群体下的准确率、FPR、FNR\n",
    "3. **ROC 曲线**：比较基线模型和后处理模型\n",
    "4. **散点图**：模型的性能（错误率）与公平性（Equalized Odds）权衡\n",
    "\n",
    "在 Jupyter Notebook 中，Plotly 可以用 `fig.show()` 直接在单元格中交互显示。"
   ]
  },
  {
   "cell_type": "code",
   "execution_count": 8,
   "metadata": {},
   "outputs": [
    {
     "data": {
      "application/vnd.plotly.v1+json": {
       "config": {
        "plotlyServerURL": "https://plot.ly"
       },
       "data": [
        {
         "bingroup": "x",
         "histnorm": "density",
         "hovertemplate": "African_American=0<br>Two_yr_Recidivism=%{x}<br>density=%{y}<extra></extra>",
         "legendgroup": "0",
         "marker": {
          "color": "#636efa",
          "opacity": 0.6,
          "pattern": {
           "shape": ""
          }
         },
         "name": "0",
         "orientation": "v",
         "showlegend": true,
         "type": "histogram",
         "x": {
          "bdata": "AAABAAAAAAEAAQEBAAEAAAEAAQEBAAEBAAEAAAABAAABAAEAAQEBAQEAAQAAAQEAAAAAAQABAAEAAAAAAAEBAQEBAAABAAAAAQABAAAAAQAAAQAAAAEBAAEAAAABAQEBAAEBAQABAAAAAQEAAQEAAAABAQAAAAABAAAAAAABAAEAAAAAAQABAQABAAAAAQEAAQAAAAEAAAAAAAAAAAAAAAAAAQABAQAAAQAAAAABAAAAAAEAAAABAAEBAAABAAEAAAABAAABAQEBAAEAAAAAAQABAQAAAAEBAQABAAEBAAAAAAAAAAAAAAABAQAAAAEBAAAAAQEAAQEAAAAAAQAAAAAAAAEBAQAAAAEAAAABAAABAQAAAAABAAEAAQAAAQEAAQABAQEAAAEAAAABAQEBAAEAAQAAAAEAAQAAAQAAAAABAAABAAEAAQAAAQAAAAEBAQAAAAAAAAAAAAAAAQEBAAAAAAEBAAAAAQEBAAAAAAAAAAEAAQABAQEAAQEAAAEAAAAAAAAAAQAAAAAAAQAAAAAAAAABAAEAAQEAAAAAAQAAAQABAAAAAQABAAEAAAAAAAAAAQABAAAAAAEAAAAAAAAAAAAAAAABAQAAAAEBAAAAAAAAAAAAAQEAAQAAAAEAAQAAAAEAAAABAQAAAQAAAQAAAAAAAQEBAAEAAAAAAQAAAAEAAQAAAQABAAEBAAAAAQAAAAEAAAABAQABAAEAAAAAAQAAAQEBAAAAAAAAAAAAAAEAAAAAAAAAAAEAAAEAAAEAAAAAAQABAQEAAQEBAAEAAAAAAAEBAQEBAAABAAEAAAEBAAAAAAAAAQAAAQABAQEAAAEAAAAAAQEBAAAAAQEAAQEAAAEAAAABAQAAAAABAAEAAQAAAQEAAAAAAAEBAAAAAAABAAEAAAABAAEAAAEAAQAAAAEAAQAAAAABAQAAAAEAAQEAAQAAAQABAQEAAAAAAAEAAAAAAAEAAQEAAAAAAQAAAAAAAQAAAAABAQEBAAABAAEAAQAAAAABAAAAAAAAAQAAAQAAAAABAAEBAAAAAQEAAQAAAQEBAQABAQAAAQAAAQEAAAABAAAAAAABAAAAAAABAAEAAAEAAAEAAAABAQEAAAABAQAAAAABAAAAAQEBAQABAQAAAAEAAAABAAAAAAEAAQEAAQEBAQAAAAAAAAABAAAAAQEAAAAAAQABAAABAQABAQAAAQAAAQABAAAAAAEAAAAAAQEBAAABAQEAAAEAAAEBAQABAAABAAEAAQAAAQABAQAAAQABAAAAAAAAAQAAAAEBAAAAAQABAAEBAAAAAAABAQABAAEAAAABAAABAAAAAAAAAAABAAAAAAABAQAAAAEAAAEAAQAAAAEAAAAAAQABAQEAAQAAAAEAAAAAAAABAAEBAQEAAQAAAAABAQAAAAAAAAABAQABAQAAAQABAAAAAAEAAQAAAAAAAAEAAAABAQEAAQAAAAAAAQEAAQEAAQEAAQEBAAABAAEBAAEAAQABAAEBAQABAAAAAAEBAQAAAAEAAQAAAQABAAAAAQABAQEBAQEAAAEAAAABAAABAAABAAEAAAEAAAABAAEBAQEAAAABAQAAAQABAAABAAAAAQAAAAAAAAABAQAAAQAAAAAAAAAAAAABAAAAAQEBAQAAAQEAAAEBAAABAAAAAAABAQABAQAAAAEAAQEAAAEAAQEBAAAAAAABAAABAAABAQAAAAAAAQAAAAABAQEBAAAAAAEAAAABAAABAAAAAQEAAQEAAAABAAABAAAAAAEAAQEBAAABAQABAAEAAAAAAAAAAQAAAAEAAAABAQEBAAEAAAEBAAEAAAEAAAEBAQAAAQAAAAABAQEAAAEBAAEAAAABAQABAQAAAQABAAEAAAAAAAEBAAABAAAAAQEBAAAAAAEAAQEAAAEAAQEBAAEAAAAAAAEBAAEBAAEBAQAAAQEAAAEBAAAAAAEBAAEAAAEAAAAAAAABAQEAAQEAAAABAAEBAAEAAAABAAABAAAAAAAAAAEAAQEAAQEBAAAAAAEAAAABAQEAAAAAAQABAQAAAQAAAQAAAAABAAAAAAAAAQEAAQABAAABAAEAAAABAQABAQABAQEAAAAAAAAAAQABAAABAQAAAQAAAQEBAQEAAAAAAAEAAQEAAQAAAAEBAQAAAAABAQEAAAEBAAABAAAAAAAAAQABAQEAAAEAAQEAAQAAAAAAAAAAAAEBAQABAAAAAQAAAQEAAAAAAAAAAQEBAAAAAAAAAAAAAAABAQEBAAEAAAABAAAAAQAAAAEAAAEAAQAAAAAAAQABAAEBAAEAAQEAAQAAAQEBAQABAAABAQABAQABAQABAAAAAAAAAQEBAAEAAAEBAAABAQEBAAAAAQAAAAABAAAAAQABAAEAAQABAAABAAEBAQAAAAEAAAABAAEBAAABAQEBAAAAAQABAAEBAQEBAAAAAAAAAAAAAAAAAAEAAAABAAEBAAAAAAAAAAAAAAEAAAABAAAAAQEAAAEAAQEBAQEBAAEAAAEAAAABAQEAAAEBAAEAAAABAAAAAAAAAQABAQAAAQABAAABAAABAQEAAAABAQEBAAAAAAAAAAABAAEAAQAAAAEAAAAAAAABAAAAAAAAAAAAAQEAAAABAQEBAAEAAAABAAEBAAEAAAAAAAAAAAEAAAEBAAABAQEBAAEBAAEBAAAAAAEAAAABAQAAAAABAQABAAABAAEAAQABAQABAQAAAAEAAAEAAAAAAQAAAAEBAAEAAQAAAAAAAAABAAABAAAAAQAAAAABAQEAAAEBAAABAQEAAAABAAAAAAEAAQAAAAEAAAABAQAAAAEAAAABAQABAQEAAQEBAAEBAAABAQABAAAAAQAAAQAAAQABAQEAAQEBAAEAAAEAAQABAAEAAAAAAAAAAQAAAQABAQABAQABAAEAAAEBAAAAAQABAAAAAAAAAAEAAAEBAAEAAAAAAQABAQEAAAAAAAAAAAAAAQEBAQAAAQEBAQEAAAAAAAABAAAAAQAAAAABAQAAAQEAAAABAQEAAAAAAAEBAQEBAQAAAQEBAQAAAAABAQEAAQEBAQEAAQABAQABAQEAAAEBAAEAAQABAAABAAABAQAAAQABAAEBAAAAAQAAAQAAAQAAAAAAAAEAAQAAAAAAAQEAAQEAAAAAAAAAAAAAAQABAAEAAAAAAQEBAAABAQEAAAEAAQEAAAAAAQAAAQABAAAAAQAAAQAAAAAAAQAAAAAAAQABAQAAAQAAAAAAAAEAAAABAAEBAAEBAAEBAAABAQAAAQAAAAEAAQAAAAABAQAAAAAAAQAAAAEBAAAAAAABAQAAAQABAQEBAQABAAAAAAEAAQEBAQEBAAEAAQEBAQABAAEBAQAAAAABAAEAAAABAAAAAAAAAAEBAAEAAAABAQAAAAEAAAABAQABAQEBAAABAAAAAQABAAAAAQAAAQAAAAEAAQEAAQAAAAEAAAAAAAAAAQAAAQAAAQAAAAABAAABAAAAAQAAAAEBAAEAAAAAAAAAAQEBAAEBAQABAAEAAAAAAAAAAAAAAAEAAQEAAQAAAAABAAABAAAAAAABAAABAQAAAQEAAQABAQAAAAEBAAAAAQAAAAEAAQEAAQABAQAAAQEAAAABAAAAAAEBAQEAAAAAAQEAAQABAAAAAAEBAAEBAAAAAQEBAAEAAQAAAAABAQABAAAAAQEBAAAAAQAAAQAAAAABAAAAAQAAAAEAAAEBAAAAAAAAAAABAAABAAAAAQAAAQAAAQAAAAEAAAAAAAAAAAABAQEAAAEBAAEAAAEAAQAAAAAAAQABAAABAAAAAQAAAAAAAAABAAEBAQEAAAAAAAEAAAABAAEAAQEAAAAAAQEBAQEAAAEBAAABAQAAAAEBAAEAAAEBAQAAAAAAAQAAAAAAAQABAAABAAAAAAABAAEAAQEBAQABAAABAAABAAEBAAAAAAEAAAEAAQAAAAABAAABAAABAQAAAAAAAQABAAABAAAAAQAB",
          "dtype": "i1"
         },
         "xaxis": "x",
         "yaxis": "y"
        },
        {
         "bingroup": "x",
         "histnorm": "density",
         "hovertemplate": "African_American=1<br>Two_yr_Recidivism=%{x}<br>density=%{y}<extra></extra>",
         "legendgroup": "1",
         "marker": {
          "color": "#EF553B",
          "opacity": 0.6,
          "pattern": {
           "shape": ""
          }
         },
         "name": "1",
         "orientation": "v",
         "showlegend": true,
         "type": "histogram",
         "x": {
          "bdata": "AQEBAAEAAQEBAQEBAQAAAAEBAAABAAABAQEBAAABAAEBAAABAQEAAQEAAQEAAQEBAAEBAAEAAAEBAQEBAQABAQEAAAEAAAEBAQEAAQEBAAABAQAAAAAAAAAAAAEAAAAAAAEAAAABAAABAQAAAAABAAEBAAEAAQEAAQEAAQAAAAEAAQEAAQAAAQAAAQEBAAABAAEBAQAAAAEBAQAAAAEAAQABAAEAAAABAQEBAAEAAAEBAQAAAAEBAQEBAQAAAAEBAQABAAEAAAEAAQAAAAEBAAEBAAEAAQEAAAAAAQEBAAABAAABAQAAAQAAAAEBAAEAAAEBAQABAAAAAQEAAQEAAAABAAEBAQEAAAEBAAAAAAAAAQEAAQAAAAEBAQAAAAAAAQEAAQEAAAABAQABAAAAAAEAAQEAAAAAAQABAQEAAAABAAEAAAEAAAAAAQEBAAEAAQAAAQEAAAEAAQABAAEAAQEBAQEAAQABAQABAQEAAQABAQEAAQAAAAABAAAAAAABAQEBAQEBAQABAQEBAAABAAEAAQABAQEBAQABAQEBAQEAAQAAAAEBAAEBAQAAAQAAAAAAAAABAQABAAABAQABAQABAQABAQAAAQABAAAAAAEBAQABAAEBAQEAAQABAAABAQEBAAEBAQEBAAEAAAAAAAEBAAAAAQABAQAAAQEAAQAAAQEBAAABAQEAAAABAAEAAAABAQEAAQAAAQEBAAEAAAABAAAAAAEAAQEAAQEAAQAAAQAAAAEBAQABAAABAQAAAQEAAAAAAQEAAAEAAAEAAAABAAEBAQABAQABAQAAAQABAQABAAEAAAABAQEBAAABAAEBAQABAAEAAQAAAQABAAEBAAEBAQAAAQEBAQABAAEAAQEAAAABAQEBAAEBAAAAAQAAAAABAQABAAEBAAAAAAEBAAEAAAABAQEAAQABAQEBAAABAAABAQAAAAAAAQAAAAEBAQAAAQAAAAEAAQAAAAABAAEAAQABAAAAAAABAQEAAAAAAAABAAAAAAABAAEBAQEBAQAAAQAAAQABAQEAAQABAAABAAEAAQEAAAEAAQEAAAABAQEBAQEBAQEBAAAAAAEBAAAAAAEBAAEAAAEBAAAAAAAAAAEAAQABAAABAAEAAQABAAEAAQABAAEBAAAAAAAAAAAAAAEAAAEAAAAAAQAAAQAAAAEBAAABAQEAAQEBAQAAAQAAAQAAAAEBAAAAAQAAAAEAAQEBAAEBAQEAAAEBAAABAQABAAEAAQABAQEBAAEBAAABAQEBAAABAQEBAQABAAEBAAAAAQEBAAEBAAEBAAEBAAAAAQEBAAEBAQAAAAEBAQAAAQEAAAABAAEBAAEBAAEAAQABAQEAAQEAAAEBAQAAAQEAAQEBAAAAAAEAAAAAAAEAAAEBAQAAAQAAAQEAAQEAAAAAAAEBAQAAAQEAAQABAQEAAAEBAAEBAAEAAAEAAAEAAQEAAQAAAQAAAAEBAQEBAAEBAAEAAQEBAAABAQEBAAABAQABAQEAAQEBAQABAQAAAAABAAAAAAAAAAAAAQAAAAAAAAABAAABAQEAAAABAQEBAQABAAAAAAEBAQAAAQEBAQEAAQEAAQABAQEAAQEAAAAAAQABAAEAAQEAAAABAAEBAQEAAAEBAAEBAAAAAQEBAQEAAQEBAQEBAAABAAAAAQEAAQABAAABAQEAAQEAAQAAAQEBAAAAAAABAAEAAQAAAQEAAAEBAQAAAQAAAQEAAQEBAQABAAEBAAABAQEBAQEBAAEAAAAAAQEAAQAAAAEBAAEBAQEAAAABAAABAAABAAABAAEBAQEAAQEBAAAAAAEAAQEAAQABAAEBAAABAAEAAQEAAQEAAQAAAQEBAQEBAAEBAQABAQAAAQEAAQEBAQEBAQEBAQAAAQABAAABAAEAAAEBAQEBAAEBAAAAAQABAQEBAQEAAAEBAAABAAEBAQEAAQABAQEBAAABAAEAAAABAAAAAQEAAQEAAQEBAQEBAQEAAAABAQABAQAAAQEBAAEBAAAAAQAAAQEBAQABAAAAAQABAQABAAEAAAEBAAABAAABAQABAQEBAQAAAAEBAQEAAAEBAAAAAAEBAAABAQAAAAAAAQEAAAEAAQABAQABAAEBAQABAAEBAQAAAQEBAAEBAAEAAQEAAAEBAQEBAAEAAAEAAAEAAAEAAQABAAABAQAAAAAAAAABAAEBAQABAQABAQAAAQEBAAEBAAABAAEAAQEBAQAAAAEBAQEBAAEBAAAAAQEAAQEBAQEAAAABAAABAQEBAAABAAABAQAAAAEAAQEAAQEAAAEBAQAAAQABAQEBAAAAAQABAAEAAQAAAAABAAABAAAAAAEAAAEAAQEAAQABAAAAAQEAAQAAAAAAAQAAAQAAAQABAQEBAQABAAEAAQEAAQAAAQABAQEBAQEBAAABAAEBAQEAAQABAAEAAAABAAEAAQABAQEBAAAAAQEBAAEAAAEBAQABAAEAAQABAQABAQEAAAEBAQABAQABAAAAAAEBAAEAAAAAAAEBAQABAAEBAAEAAQEAAAAAAAEBAQEAAQAAAQAAAQAAAQAAAAEBAQABAQEBAAEAAQAAAQAAAQABAQABAQAAAAEBAQEAAAAAAQAAAQEAAQAAAQAAAQEBAAEAAAABAQAAAQEBAQEAAAEBAAEBAQEBAAEBAQABAAEBAAABAQABAQABAQAAAQAAAAEBAQABAQEBAQAAAQABAQAAAAEBAAABAQEAAAEBAQABAAAAAAEBAQAAAQEAAAABAQEAAQEBAAABAQABAQEAAAABAQEBAAABAAABAQEBAQEBAQAAAQEAAQEBAAEBAQABAQABAAEAAAEAAAAAAAEAAAAAAAEBAQABAQEBAAABAQEBAAEBAAAAAQEBAQAAAQEAAQEBAAEAAAABAQABAQEBAAEBAAAAAQAAAAABAAABAQEAAAABAAEBAQABAQAAAQEBAQAAAAEBAQEBAAEBAQAAAQABAQAAAQABAQEAAQEBAAEBAQEBAAEBAQEBAAEBAAEAAAABAQAAAQABAAAAAQEAAAAAAAEAAAAAAQABAAABAQABAAAAAQEBAQAAAAEBAQEAAQEBAQEAAAEAAQAAAQEBAQEBAAEAAQABAQEAAQAAAAEAAAEAAQEBAAEAAAEAAQABAAABAQABAAEAAQABAAEBAAAAAAEAAQABAAEBAAEBAAEBAAEAAQAAAAEAAQEAAQEAAQABAAABAQAAAQEBAQAAAAAAAAEBAQAAAAAAAAEAAQEBAAEAAQABAQEAAQAAAQEBAAAAAAABAAEBAQEBAQAAAQABAAEBAAABAAABAQAAAQAAAQAAAQEAAAABAAABAQAAAAABAAABAQEAAQAAAQAAAAEBAAEAAQABAAAAAQAAAQAAAQEBAQABAQEAAAEAAAEBAAABAQEAAAABAAEBAQEAAQAAAAAAAAEBAQABAAABAAABAAAAAQABAAEAAAABAAEBAQEBAAEBAAEAAQEBAQAAAAABAQABAAEAAAAAAQABAQABAAEAAQEAAAEAAAEBAQABAAAAAQAAAAAAAAAAAQABAQAAAQEBAAEBAAEAAQABAAAAAQAAAQABAQEBAQEAAAEAAQAAAQEAAQEBAAEBAQABAAAAAQEAAAABAQEAAAABAAEBAQEBAQEAAQAAAQEAAAABAQABAQEBAAEBAAEBAAEBAQAAAAAAAAAAAAEBAAAAAAEBAAEAAQEBAAABAAEBAAEBAAEBAQABAQEBAAEBAAAAAQEAAQABAAEBAQAAAAAAAQABAQEBAAEBAQAAAAEBAQAAAAAAAQEBAQEBAAAAAAEAAQEBAQABAAEAAAABAQEAAQEBAQEAAQAAAAEBAQABAQEBAAEBAQEBAAAAAAAAAAAAAQEAAQABAAEBAQEAAAEAAQEBAQEAAQEBAAAAAAABAAEBAQAAAAAAAQEAAAABAAEAAQAAAQAAAAAAAQEAAQEAAAEAAQABAAEBAAEAAQEBAQEAAAEAAQEAAAEBAQEBAQEBAAABAAAAAAAAAAAAAQABAAEBAQEAAQABAQABAAEBAQEBAQABAQEAAAEBAQEAAAEAAAABAQEAAQEBAQEBAQAAAAABAAEAAAEBAQEAAQABAAEBAAABAAEBAQAAAQABAQEAAQABAAEBAAEAAAEBAAABAQEBAQABAQEBAAEBAQEBAQAAAAEBAQEAAAEBAQAAAQEBAQEAAAAAAQABAAEAAQEBAAEBAAEAAAABAQABAAAAAA==",
          "dtype": "i1"
         },
         "xaxis": "x",
         "yaxis": "y"
        }
       ],
       "layout": {
        "barmode": "overlay",
        "legend": {
         "title": {
          "text": "African_American"
         },
         "tracegroupgap": 0
        },
        "template": {
         "data": {
          "bar": [
           {
            "error_x": {
             "color": "#2a3f5f"
            },
            "error_y": {
             "color": "#2a3f5f"
            },
            "marker": {
             "line": {
              "color": "#E5ECF6",
              "width": 0.5
             },
             "pattern": {
              "fillmode": "overlay",
              "size": 10,
              "solidity": 0.2
             }
            },
            "type": "bar"
           }
          ],
          "barpolar": [
           {
            "marker": {
             "line": {
              "color": "#E5ECF6",
              "width": 0.5
             },
             "pattern": {
              "fillmode": "overlay",
              "size": 10,
              "solidity": 0.2
             }
            },
            "type": "barpolar"
           }
          ],
          "carpet": [
           {
            "aaxis": {
             "endlinecolor": "#2a3f5f",
             "gridcolor": "white",
             "linecolor": "white",
             "minorgridcolor": "white",
             "startlinecolor": "#2a3f5f"
            },
            "baxis": {
             "endlinecolor": "#2a3f5f",
             "gridcolor": "white",
             "linecolor": "white",
             "minorgridcolor": "white",
             "startlinecolor": "#2a3f5f"
            },
            "type": "carpet"
           }
          ],
          "choropleth": [
           {
            "colorbar": {
             "outlinewidth": 0,
             "ticks": ""
            },
            "type": "choropleth"
           }
          ],
          "contour": [
           {
            "colorbar": {
             "outlinewidth": 0,
             "ticks": ""
            },
            "colorscale": [
             [
              0,
              "#0d0887"
             ],
             [
              0.1111111111111111,
              "#46039f"
             ],
             [
              0.2222222222222222,
              "#7201a8"
             ],
             [
              0.3333333333333333,
              "#9c179e"
             ],
             [
              0.4444444444444444,
              "#bd3786"
             ],
             [
              0.5555555555555556,
              "#d8576b"
             ],
             [
              0.6666666666666666,
              "#ed7953"
             ],
             [
              0.7777777777777778,
              "#fb9f3a"
             ],
             [
              0.8888888888888888,
              "#fdca26"
             ],
             [
              1,
              "#f0f921"
             ]
            ],
            "type": "contour"
           }
          ],
          "contourcarpet": [
           {
            "colorbar": {
             "outlinewidth": 0,
             "ticks": ""
            },
            "type": "contourcarpet"
           }
          ],
          "heatmap": [
           {
            "colorbar": {
             "outlinewidth": 0,
             "ticks": ""
            },
            "colorscale": [
             [
              0,
              "#0d0887"
             ],
             [
              0.1111111111111111,
              "#46039f"
             ],
             [
              0.2222222222222222,
              "#7201a8"
             ],
             [
              0.3333333333333333,
              "#9c179e"
             ],
             [
              0.4444444444444444,
              "#bd3786"
             ],
             [
              0.5555555555555556,
              "#d8576b"
             ],
             [
              0.6666666666666666,
              "#ed7953"
             ],
             [
              0.7777777777777778,
              "#fb9f3a"
             ],
             [
              0.8888888888888888,
              "#fdca26"
             ],
             [
              1,
              "#f0f921"
             ]
            ],
            "type": "heatmap"
           }
          ],
          "histogram": [
           {
            "marker": {
             "pattern": {
              "fillmode": "overlay",
              "size": 10,
              "solidity": 0.2
             }
            },
            "type": "histogram"
           }
          ],
          "histogram2d": [
           {
            "colorbar": {
             "outlinewidth": 0,
             "ticks": ""
            },
            "colorscale": [
             [
              0,
              "#0d0887"
             ],
             [
              0.1111111111111111,
              "#46039f"
             ],
             [
              0.2222222222222222,
              "#7201a8"
             ],
             [
              0.3333333333333333,
              "#9c179e"
             ],
             [
              0.4444444444444444,
              "#bd3786"
             ],
             [
              0.5555555555555556,
              "#d8576b"
             ],
             [
              0.6666666666666666,
              "#ed7953"
             ],
             [
              0.7777777777777778,
              "#fb9f3a"
             ],
             [
              0.8888888888888888,
              "#fdca26"
             ],
             [
              1,
              "#f0f921"
             ]
            ],
            "type": "histogram2d"
           }
          ],
          "histogram2dcontour": [
           {
            "colorbar": {
             "outlinewidth": 0,
             "ticks": ""
            },
            "colorscale": [
             [
              0,
              "#0d0887"
             ],
             [
              0.1111111111111111,
              "#46039f"
             ],
             [
              0.2222222222222222,
              "#7201a8"
             ],
             [
              0.3333333333333333,
              "#9c179e"
             ],
             [
              0.4444444444444444,
              "#bd3786"
             ],
             [
              0.5555555555555556,
              "#d8576b"
             ],
             [
              0.6666666666666666,
              "#ed7953"
             ],
             [
              0.7777777777777778,
              "#fb9f3a"
             ],
             [
              0.8888888888888888,
              "#fdca26"
             ],
             [
              1,
              "#f0f921"
             ]
            ],
            "type": "histogram2dcontour"
           }
          ],
          "mesh3d": [
           {
            "colorbar": {
             "outlinewidth": 0,
             "ticks": ""
            },
            "type": "mesh3d"
           }
          ],
          "parcoords": [
           {
            "line": {
             "colorbar": {
              "outlinewidth": 0,
              "ticks": ""
             }
            },
            "type": "parcoords"
           }
          ],
          "pie": [
           {
            "automargin": true,
            "type": "pie"
           }
          ],
          "scatter": [
           {
            "fillpattern": {
             "fillmode": "overlay",
             "size": 10,
             "solidity": 0.2
            },
            "type": "scatter"
           }
          ],
          "scatter3d": [
           {
            "line": {
             "colorbar": {
              "outlinewidth": 0,
              "ticks": ""
             }
            },
            "marker": {
             "colorbar": {
              "outlinewidth": 0,
              "ticks": ""
             }
            },
            "type": "scatter3d"
           }
          ],
          "scattercarpet": [
           {
            "marker": {
             "colorbar": {
              "outlinewidth": 0,
              "ticks": ""
             }
            },
            "type": "scattercarpet"
           }
          ],
          "scattergeo": [
           {
            "marker": {
             "colorbar": {
              "outlinewidth": 0,
              "ticks": ""
             }
            },
            "type": "scattergeo"
           }
          ],
          "scattergl": [
           {
            "marker": {
             "colorbar": {
              "outlinewidth": 0,
              "ticks": ""
             }
            },
            "type": "scattergl"
           }
          ],
          "scattermap": [
           {
            "marker": {
             "colorbar": {
              "outlinewidth": 0,
              "ticks": ""
             }
            },
            "type": "scattermap"
           }
          ],
          "scattermapbox": [
           {
            "marker": {
             "colorbar": {
              "outlinewidth": 0,
              "ticks": ""
             }
            },
            "type": "scattermapbox"
           }
          ],
          "scatterpolar": [
           {
            "marker": {
             "colorbar": {
              "outlinewidth": 0,
              "ticks": ""
             }
            },
            "type": "scatterpolar"
           }
          ],
          "scatterpolargl": [
           {
            "marker": {
             "colorbar": {
              "outlinewidth": 0,
              "ticks": ""
             }
            },
            "type": "scatterpolargl"
           }
          ],
          "scatterternary": [
           {
            "marker": {
             "colorbar": {
              "outlinewidth": 0,
              "ticks": ""
             }
            },
            "type": "scatterternary"
           }
          ],
          "surface": [
           {
            "colorbar": {
             "outlinewidth": 0,
             "ticks": ""
            },
            "colorscale": [
             [
              0,
              "#0d0887"
             ],
             [
              0.1111111111111111,
              "#46039f"
             ],
             [
              0.2222222222222222,
              "#7201a8"
             ],
             [
              0.3333333333333333,
              "#9c179e"
             ],
             [
              0.4444444444444444,
              "#bd3786"
             ],
             [
              0.5555555555555556,
              "#d8576b"
             ],
             [
              0.6666666666666666,
              "#ed7953"
             ],
             [
              0.7777777777777778,
              "#fb9f3a"
             ],
             [
              0.8888888888888888,
              "#fdca26"
             ],
             [
              1,
              "#f0f921"
             ]
            ],
            "type": "surface"
           }
          ],
          "table": [
           {
            "cells": {
             "fill": {
              "color": "#EBF0F8"
             },
             "line": {
              "color": "white"
             }
            },
            "header": {
             "fill": {
              "color": "#C8D4E3"
             },
             "line": {
              "color": "white"
             }
            },
            "type": "table"
           }
          ]
         },
         "layout": {
          "annotationdefaults": {
           "arrowcolor": "#2a3f5f",
           "arrowhead": 0,
           "arrowwidth": 1
          },
          "autotypenumbers": "strict",
          "coloraxis": {
           "colorbar": {
            "outlinewidth": 0,
            "ticks": ""
           }
          },
          "colorscale": {
           "diverging": [
            [
             0,
             "#8e0152"
            ],
            [
             0.1,
             "#c51b7d"
            ],
            [
             0.2,
             "#de77ae"
            ],
            [
             0.3,
             "#f1b6da"
            ],
            [
             0.4,
             "#fde0ef"
            ],
            [
             0.5,
             "#f7f7f7"
            ],
            [
             0.6,
             "#e6f5d0"
            ],
            [
             0.7,
             "#b8e186"
            ],
            [
             0.8,
             "#7fbc41"
            ],
            [
             0.9,
             "#4d9221"
            ],
            [
             1,
             "#276419"
            ]
           ],
           "sequential": [
            [
             0,
             "#0d0887"
            ],
            [
             0.1111111111111111,
             "#46039f"
            ],
            [
             0.2222222222222222,
             "#7201a8"
            ],
            [
             0.3333333333333333,
             "#9c179e"
            ],
            [
             0.4444444444444444,
             "#bd3786"
            ],
            [
             0.5555555555555556,
             "#d8576b"
            ],
            [
             0.6666666666666666,
             "#ed7953"
            ],
            [
             0.7777777777777778,
             "#fb9f3a"
            ],
            [
             0.8888888888888888,
             "#fdca26"
            ],
            [
             1,
             "#f0f921"
            ]
           ],
           "sequentialminus": [
            [
             0,
             "#0d0887"
            ],
            [
             0.1111111111111111,
             "#46039f"
            ],
            [
             0.2222222222222222,
             "#7201a8"
            ],
            [
             0.3333333333333333,
             "#9c179e"
            ],
            [
             0.4444444444444444,
             "#bd3786"
            ],
            [
             0.5555555555555556,
             "#d8576b"
            ],
            [
             0.6666666666666666,
             "#ed7953"
            ],
            [
             0.7777777777777778,
             "#fb9f3a"
            ],
            [
             0.8888888888888888,
             "#fdca26"
            ],
            [
             1,
             "#f0f921"
            ]
           ]
          },
          "colorway": [
           "#636efa",
           "#EF553B",
           "#00cc96",
           "#ab63fa",
           "#FFA15A",
           "#19d3f3",
           "#FF6692",
           "#B6E880",
           "#FF97FF",
           "#FECB52"
          ],
          "font": {
           "color": "#2a3f5f"
          },
          "geo": {
           "bgcolor": "white",
           "lakecolor": "white",
           "landcolor": "#E5ECF6",
           "showlakes": true,
           "showland": true,
           "subunitcolor": "white"
          },
          "hoverlabel": {
           "align": "left"
          },
          "hovermode": "closest",
          "mapbox": {
           "style": "light"
          },
          "paper_bgcolor": "white",
          "plot_bgcolor": "#E5ECF6",
          "polar": {
           "angularaxis": {
            "gridcolor": "white",
            "linecolor": "white",
            "ticks": ""
           },
           "bgcolor": "#E5ECF6",
           "radialaxis": {
            "gridcolor": "white",
            "linecolor": "white",
            "ticks": ""
           }
          },
          "scene": {
           "xaxis": {
            "backgroundcolor": "#E5ECF6",
            "gridcolor": "white",
            "gridwidth": 2,
            "linecolor": "white",
            "showbackground": true,
            "ticks": "",
            "zerolinecolor": "white"
           },
           "yaxis": {
            "backgroundcolor": "#E5ECF6",
            "gridcolor": "white",
            "gridwidth": 2,
            "linecolor": "white",
            "showbackground": true,
            "ticks": "",
            "zerolinecolor": "white"
           },
           "zaxis": {
            "backgroundcolor": "#E5ECF6",
            "gridcolor": "white",
            "gridwidth": 2,
            "linecolor": "white",
            "showbackground": true,
            "ticks": "",
            "zerolinecolor": "white"
           }
          },
          "shapedefaults": {
           "line": {
            "color": "#2a3f5f"
           }
          },
          "ternary": {
           "aaxis": {
            "gridcolor": "white",
            "linecolor": "white",
            "ticks": ""
           },
           "baxis": {
            "gridcolor": "white",
            "linecolor": "white",
            "ticks": ""
           },
           "bgcolor": "#E5ECF6",
           "caxis": {
            "gridcolor": "white",
            "linecolor": "white",
            "ticks": ""
           }
          },
          "title": {
           "x": 0.05
          },
          "xaxis": {
           "automargin": true,
           "gridcolor": "white",
           "linecolor": "white",
           "ticks": "",
           "title": {
            "standoff": 15
           },
           "zerolinecolor": "white",
           "zerolinewidth": 2
          },
          "yaxis": {
           "automargin": true,
           "gridcolor": "white",
           "linecolor": "white",
           "ticks": "",
           "title": {
            "standoff": 15
           },
           "zerolinecolor": "white",
           "zerolinewidth": 2
          }
         }
        },
        "title": {
         "text": "两年内再犯分布（按非裔 vs 非非裔）"
        },
        "xaxis": {
         "anchor": "y",
         "domain": [
          0,
          1
         ],
         "title": {
          "text": "Two_yr_Recidivism"
         }
        },
        "yaxis": {
         "anchor": "x",
         "domain": [
          0,
          1
         ],
         "title": {
          "text": "Density"
         }
        }
       }
      }
     },
     "metadata": {},
     "output_type": "display_data"
    },
    {
     "data": {
      "application/vnd.plotly.v1+json": {
       "config": {
        "plotlyServerURL": "https://plot.ly"
       },
       "data": [
        {
         "name": "accuracy",
         "type": "bar",
         "x": [
          "0",
          "1"
         ],
         "y": {
          "bdata": "SZIkSZIk5j/Rk+ormZ/lPw==",
          "dtype": "f8"
         }
        },
        {
         "name": "fpr",
         "type": "bar",
         "x": [
          "0",
          "1"
         ],
         "y": {
          "bdata": "yhXE5Apiwj9SxV0hPiTVPw==",
          "dtype": "f8"
         }
        },
        {
         "name": "fnr",
         "type": "bar",
         "x": [
          "0",
          "1"
         ],
         "y": {
          "bdata": "mjq/9pDL4j+jRo0aNWrUPw==",
          "dtype": "f8"
         }
        }
       ],
       "layout": {
        "barmode": "group",
        "template": {
         "data": {
          "bar": [
           {
            "error_x": {
             "color": "#2a3f5f"
            },
            "error_y": {
             "color": "#2a3f5f"
            },
            "marker": {
             "line": {
              "color": "#E5ECF6",
              "width": 0.5
             },
             "pattern": {
              "fillmode": "overlay",
              "size": 10,
              "solidity": 0.2
             }
            },
            "type": "bar"
           }
          ],
          "barpolar": [
           {
            "marker": {
             "line": {
              "color": "#E5ECF6",
              "width": 0.5
             },
             "pattern": {
              "fillmode": "overlay",
              "size": 10,
              "solidity": 0.2
             }
            },
            "type": "barpolar"
           }
          ],
          "carpet": [
           {
            "aaxis": {
             "endlinecolor": "#2a3f5f",
             "gridcolor": "white",
             "linecolor": "white",
             "minorgridcolor": "white",
             "startlinecolor": "#2a3f5f"
            },
            "baxis": {
             "endlinecolor": "#2a3f5f",
             "gridcolor": "white",
             "linecolor": "white",
             "minorgridcolor": "white",
             "startlinecolor": "#2a3f5f"
            },
            "type": "carpet"
           }
          ],
          "choropleth": [
           {
            "colorbar": {
             "outlinewidth": 0,
             "ticks": ""
            },
            "type": "choropleth"
           }
          ],
          "contour": [
           {
            "colorbar": {
             "outlinewidth": 0,
             "ticks": ""
            },
            "colorscale": [
             [
              0,
              "#0d0887"
             ],
             [
              0.1111111111111111,
              "#46039f"
             ],
             [
              0.2222222222222222,
              "#7201a8"
             ],
             [
              0.3333333333333333,
              "#9c179e"
             ],
             [
              0.4444444444444444,
              "#bd3786"
             ],
             [
              0.5555555555555556,
              "#d8576b"
             ],
             [
              0.6666666666666666,
              "#ed7953"
             ],
             [
              0.7777777777777778,
              "#fb9f3a"
             ],
             [
              0.8888888888888888,
              "#fdca26"
             ],
             [
              1,
              "#f0f921"
             ]
            ],
            "type": "contour"
           }
          ],
          "contourcarpet": [
           {
            "colorbar": {
             "outlinewidth": 0,
             "ticks": ""
            },
            "type": "contourcarpet"
           }
          ],
          "heatmap": [
           {
            "colorbar": {
             "outlinewidth": 0,
             "ticks": ""
            },
            "colorscale": [
             [
              0,
              "#0d0887"
             ],
             [
              0.1111111111111111,
              "#46039f"
             ],
             [
              0.2222222222222222,
              "#7201a8"
             ],
             [
              0.3333333333333333,
              "#9c179e"
             ],
             [
              0.4444444444444444,
              "#bd3786"
             ],
             [
              0.5555555555555556,
              "#d8576b"
             ],
             [
              0.6666666666666666,
              "#ed7953"
             ],
             [
              0.7777777777777778,
              "#fb9f3a"
             ],
             [
              0.8888888888888888,
              "#fdca26"
             ],
             [
              1,
              "#f0f921"
             ]
            ],
            "type": "heatmap"
           }
          ],
          "histogram": [
           {
            "marker": {
             "pattern": {
              "fillmode": "overlay",
              "size": 10,
              "solidity": 0.2
             }
            },
            "type": "histogram"
           }
          ],
          "histogram2d": [
           {
            "colorbar": {
             "outlinewidth": 0,
             "ticks": ""
            },
            "colorscale": [
             [
              0,
              "#0d0887"
             ],
             [
              0.1111111111111111,
              "#46039f"
             ],
             [
              0.2222222222222222,
              "#7201a8"
             ],
             [
              0.3333333333333333,
              "#9c179e"
             ],
             [
              0.4444444444444444,
              "#bd3786"
             ],
             [
              0.5555555555555556,
              "#d8576b"
             ],
             [
              0.6666666666666666,
              "#ed7953"
             ],
             [
              0.7777777777777778,
              "#fb9f3a"
             ],
             [
              0.8888888888888888,
              "#fdca26"
             ],
             [
              1,
              "#f0f921"
             ]
            ],
            "type": "histogram2d"
           }
          ],
          "histogram2dcontour": [
           {
            "colorbar": {
             "outlinewidth": 0,
             "ticks": ""
            },
            "colorscale": [
             [
              0,
              "#0d0887"
             ],
             [
              0.1111111111111111,
              "#46039f"
             ],
             [
              0.2222222222222222,
              "#7201a8"
             ],
             [
              0.3333333333333333,
              "#9c179e"
             ],
             [
              0.4444444444444444,
              "#bd3786"
             ],
             [
              0.5555555555555556,
              "#d8576b"
             ],
             [
              0.6666666666666666,
              "#ed7953"
             ],
             [
              0.7777777777777778,
              "#fb9f3a"
             ],
             [
              0.8888888888888888,
              "#fdca26"
             ],
             [
              1,
              "#f0f921"
             ]
            ],
            "type": "histogram2dcontour"
           }
          ],
          "mesh3d": [
           {
            "colorbar": {
             "outlinewidth": 0,
             "ticks": ""
            },
            "type": "mesh3d"
           }
          ],
          "parcoords": [
           {
            "line": {
             "colorbar": {
              "outlinewidth": 0,
              "ticks": ""
             }
            },
            "type": "parcoords"
           }
          ],
          "pie": [
           {
            "automargin": true,
            "type": "pie"
           }
          ],
          "scatter": [
           {
            "fillpattern": {
             "fillmode": "overlay",
             "size": 10,
             "solidity": 0.2
            },
            "type": "scatter"
           }
          ],
          "scatter3d": [
           {
            "line": {
             "colorbar": {
              "outlinewidth": 0,
              "ticks": ""
             }
            },
            "marker": {
             "colorbar": {
              "outlinewidth": 0,
              "ticks": ""
             }
            },
            "type": "scatter3d"
           }
          ],
          "scattercarpet": [
           {
            "marker": {
             "colorbar": {
              "outlinewidth": 0,
              "ticks": ""
             }
            },
            "type": "scattercarpet"
           }
          ],
          "scattergeo": [
           {
            "marker": {
             "colorbar": {
              "outlinewidth": 0,
              "ticks": ""
             }
            },
            "type": "scattergeo"
           }
          ],
          "scattergl": [
           {
            "marker": {
             "colorbar": {
              "outlinewidth": 0,
              "ticks": ""
             }
            },
            "type": "scattergl"
           }
          ],
          "scattermap": [
           {
            "marker": {
             "colorbar": {
              "outlinewidth": 0,
              "ticks": ""
             }
            },
            "type": "scattermap"
           }
          ],
          "scattermapbox": [
           {
            "marker": {
             "colorbar": {
              "outlinewidth": 0,
              "ticks": ""
             }
            },
            "type": "scattermapbox"
           }
          ],
          "scatterpolar": [
           {
            "marker": {
             "colorbar": {
              "outlinewidth": 0,
              "ticks": ""
             }
            },
            "type": "scatterpolar"
           }
          ],
          "scatterpolargl": [
           {
            "marker": {
             "colorbar": {
              "outlinewidth": 0,
              "ticks": ""
             }
            },
            "type": "scatterpolargl"
           }
          ],
          "scatterternary": [
           {
            "marker": {
             "colorbar": {
              "outlinewidth": 0,
              "ticks": ""
             }
            },
            "type": "scatterternary"
           }
          ],
          "surface": [
           {
            "colorbar": {
             "outlinewidth": 0,
             "ticks": ""
            },
            "colorscale": [
             [
              0,
              "#0d0887"
             ],
             [
              0.1111111111111111,
              "#46039f"
             ],
             [
              0.2222222222222222,
              "#7201a8"
             ],
             [
              0.3333333333333333,
              "#9c179e"
             ],
             [
              0.4444444444444444,
              "#bd3786"
             ],
             [
              0.5555555555555556,
              "#d8576b"
             ],
             [
              0.6666666666666666,
              "#ed7953"
             ],
             [
              0.7777777777777778,
              "#fb9f3a"
             ],
             [
              0.8888888888888888,
              "#fdca26"
             ],
             [
              1,
              "#f0f921"
             ]
            ],
            "type": "surface"
           }
          ],
          "table": [
           {
            "cells": {
             "fill": {
              "color": "#EBF0F8"
             },
             "line": {
              "color": "white"
             }
            },
            "header": {
             "fill": {
              "color": "#C8D4E3"
             },
             "line": {
              "color": "white"
             }
            },
            "type": "table"
           }
          ]
         },
         "layout": {
          "annotationdefaults": {
           "arrowcolor": "#2a3f5f",
           "arrowhead": 0,
           "arrowwidth": 1
          },
          "autotypenumbers": "strict",
          "coloraxis": {
           "colorbar": {
            "outlinewidth": 0,
            "ticks": ""
           }
          },
          "colorscale": {
           "diverging": [
            [
             0,
             "#8e0152"
            ],
            [
             0.1,
             "#c51b7d"
            ],
            [
             0.2,
             "#de77ae"
            ],
            [
             0.3,
             "#f1b6da"
            ],
            [
             0.4,
             "#fde0ef"
            ],
            [
             0.5,
             "#f7f7f7"
            ],
            [
             0.6,
             "#e6f5d0"
            ],
            [
             0.7,
             "#b8e186"
            ],
            [
             0.8,
             "#7fbc41"
            ],
            [
             0.9,
             "#4d9221"
            ],
            [
             1,
             "#276419"
            ]
           ],
           "sequential": [
            [
             0,
             "#0d0887"
            ],
            [
             0.1111111111111111,
             "#46039f"
            ],
            [
             0.2222222222222222,
             "#7201a8"
            ],
            [
             0.3333333333333333,
             "#9c179e"
            ],
            [
             0.4444444444444444,
             "#bd3786"
            ],
            [
             0.5555555555555556,
             "#d8576b"
            ],
            [
             0.6666666666666666,
             "#ed7953"
            ],
            [
             0.7777777777777778,
             "#fb9f3a"
            ],
            [
             0.8888888888888888,
             "#fdca26"
            ],
            [
             1,
             "#f0f921"
            ]
           ],
           "sequentialminus": [
            [
             0,
             "#0d0887"
            ],
            [
             0.1111111111111111,
             "#46039f"
            ],
            [
             0.2222222222222222,
             "#7201a8"
            ],
            [
             0.3333333333333333,
             "#9c179e"
            ],
            [
             0.4444444444444444,
             "#bd3786"
            ],
            [
             0.5555555555555556,
             "#d8576b"
            ],
            [
             0.6666666666666666,
             "#ed7953"
            ],
            [
             0.7777777777777778,
             "#fb9f3a"
            ],
            [
             0.8888888888888888,
             "#fdca26"
            ],
            [
             1,
             "#f0f921"
            ]
           ]
          },
          "colorway": [
           "#636efa",
           "#EF553B",
           "#00cc96",
           "#ab63fa",
           "#FFA15A",
           "#19d3f3",
           "#FF6692",
           "#B6E880",
           "#FF97FF",
           "#FECB52"
          ],
          "font": {
           "color": "#2a3f5f"
          },
          "geo": {
           "bgcolor": "white",
           "lakecolor": "white",
           "landcolor": "#E5ECF6",
           "showlakes": true,
           "showland": true,
           "subunitcolor": "white"
          },
          "hoverlabel": {
           "align": "left"
          },
          "hovermode": "closest",
          "mapbox": {
           "style": "light"
          },
          "paper_bgcolor": "white",
          "plot_bgcolor": "#E5ECF6",
          "polar": {
           "angularaxis": {
            "gridcolor": "white",
            "linecolor": "white",
            "ticks": ""
           },
           "bgcolor": "#E5ECF6",
           "radialaxis": {
            "gridcolor": "white",
            "linecolor": "white",
            "ticks": ""
           }
          },
          "scene": {
           "xaxis": {
            "backgroundcolor": "#E5ECF6",
            "gridcolor": "white",
            "gridwidth": 2,
            "linecolor": "white",
            "showbackground": true,
            "ticks": "",
            "zerolinecolor": "white"
           },
           "yaxis": {
            "backgroundcolor": "#E5ECF6",
            "gridcolor": "white",
            "gridwidth": 2,
            "linecolor": "white",
            "showbackground": true,
            "ticks": "",
            "zerolinecolor": "white"
           },
           "zaxis": {
            "backgroundcolor": "#E5ECF6",
            "gridcolor": "white",
            "gridwidth": 2,
            "linecolor": "white",
            "showbackground": true,
            "ticks": "",
            "zerolinecolor": "white"
           }
          },
          "shapedefaults": {
           "line": {
            "color": "#2a3f5f"
           }
          },
          "ternary": {
           "aaxis": {
            "gridcolor": "white",
            "linecolor": "white",
            "ticks": ""
           },
           "baxis": {
            "gridcolor": "white",
            "linecolor": "white",
            "ticks": ""
           },
           "bgcolor": "#E5ECF6",
           "caxis": {
            "gridcolor": "white",
            "linecolor": "white",
            "ticks": ""
           }
          },
          "title": {
           "x": 0.05
          },
          "xaxis": {
           "automargin": true,
           "gridcolor": "white",
           "linecolor": "white",
           "ticks": "",
           "title": {
            "standoff": 15
           },
           "zerolinecolor": "white",
           "zerolinewidth": 2
          },
          "yaxis": {
           "automargin": true,
           "gridcolor": "white",
           "linecolor": "white",
           "ticks": "",
           "title": {
            "standoff": 15
           },
           "zerolinecolor": "white",
           "zerolinewidth": 2
          }
         }
        },
        "title": {
         "text": "基线模型：不同群体的性能指标"
        },
        "xaxis": {
         "title": {
          "text": "African_American (0=非, 1=是)"
         }
        },
        "yaxis": {
         "title": {
          "text": "指标值"
         }
        }
       }
      }
     },
     "metadata": {},
     "output_type": "display_data"
    },
    {
     "data": {
      "application/vnd.plotly.v1+json": {
       "config": {
        "plotlyServerURL": "https://plot.ly"
       },
       "data": [
        {
         "mode": "lines",
         "name": "Baseline (AUC=0.74)",
         "type": "scatter",
         "x": {
          "bdata": "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",
          "dtype": "f8"
         },
         "y": {
          "bdata": "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",
          "dtype": "f8"
         }
        },
        {
         "mode": "lines",
         "name": "Postprocessing (AUC=0.67)",
         "type": "scatter",
         "x": {
          "bdata": "AAAAAAAAAAA/meQrg6u8P9bjXirp+cc/7pQFiuA71D+83DqYKGDVP7v+VMFmG+Q/AAAAAAAA8D8=",
          "dtype": "f8"
         },
         "y": {
          "bdata": "AAAAAAAAAAAC6IyQ7L/IP/f83U9LGNA/j3h5UIU75D8eVOEODV/lP8SRYAbhces/AAAAAAAA8D8=",
          "dtype": "f8"
         }
        }
       ],
       "layout": {
        "template": {
         "data": {
          "bar": [
           {
            "error_x": {
             "color": "#2a3f5f"
            },
            "error_y": {
             "color": "#2a3f5f"
            },
            "marker": {
             "line": {
              "color": "#E5ECF6",
              "width": 0.5
             },
             "pattern": {
              "fillmode": "overlay",
              "size": 10,
              "solidity": 0.2
             }
            },
            "type": "bar"
           }
          ],
          "barpolar": [
           {
            "marker": {
             "line": {
              "color": "#E5ECF6",
              "width": 0.5
             },
             "pattern": {
              "fillmode": "overlay",
              "size": 10,
              "solidity": 0.2
             }
            },
            "type": "barpolar"
           }
          ],
          "carpet": [
           {
            "aaxis": {
             "endlinecolor": "#2a3f5f",
             "gridcolor": "white",
             "linecolor": "white",
             "minorgridcolor": "white",
             "startlinecolor": "#2a3f5f"
            },
            "baxis": {
             "endlinecolor": "#2a3f5f",
             "gridcolor": "white",
             "linecolor": "white",
             "minorgridcolor": "white",
             "startlinecolor": "#2a3f5f"
            },
            "type": "carpet"
           }
          ],
          "choropleth": [
           {
            "colorbar": {
             "outlinewidth": 0,
             "ticks": ""
            },
            "type": "choropleth"
           }
          ],
          "contour": [
           {
            "colorbar": {
             "outlinewidth": 0,
             "ticks": ""
            },
            "colorscale": [
             [
              0,
              "#0d0887"
             ],
             [
              0.1111111111111111,
              "#46039f"
             ],
             [
              0.2222222222222222,
              "#7201a8"
             ],
             [
              0.3333333333333333,
              "#9c179e"
             ],
             [
              0.4444444444444444,
              "#bd3786"
             ],
             [
              0.5555555555555556,
              "#d8576b"
             ],
             [
              0.6666666666666666,
              "#ed7953"
             ],
             [
              0.7777777777777778,
              "#fb9f3a"
             ],
             [
              0.8888888888888888,
              "#fdca26"
             ],
             [
              1,
              "#f0f921"
             ]
            ],
            "type": "contour"
           }
          ],
          "contourcarpet": [
           {
            "colorbar": {
             "outlinewidth": 0,
             "ticks": ""
            },
            "type": "contourcarpet"
           }
          ],
          "heatmap": [
           {
            "colorbar": {
             "outlinewidth": 0,
             "ticks": ""
            },
            "colorscale": [
             [
              0,
              "#0d0887"
             ],
             [
              0.1111111111111111,
              "#46039f"
             ],
             [
              0.2222222222222222,
              "#7201a8"
             ],
             [
              0.3333333333333333,
              "#9c179e"
             ],
             [
              0.4444444444444444,
              "#bd3786"
             ],
             [
              0.5555555555555556,
              "#d8576b"
             ],
             [
              0.6666666666666666,
              "#ed7953"
             ],
             [
              0.7777777777777778,
              "#fb9f3a"
             ],
             [
              0.8888888888888888,
              "#fdca26"
             ],
             [
              1,
              "#f0f921"
             ]
            ],
            "type": "heatmap"
           }
          ],
          "histogram": [
           {
            "marker": {
             "pattern": {
              "fillmode": "overlay",
              "size": 10,
              "solidity": 0.2
             }
            },
            "type": "histogram"
           }
          ],
          "histogram2d": [
           {
            "colorbar": {
             "outlinewidth": 0,
             "ticks": ""
            },
            "colorscale": [
             [
              0,
              "#0d0887"
             ],
             [
              0.1111111111111111,
              "#46039f"
             ],
             [
              0.2222222222222222,
              "#7201a8"
             ],
             [
              0.3333333333333333,
              "#9c179e"
             ],
             [
              0.4444444444444444,
              "#bd3786"
             ],
             [
              0.5555555555555556,
              "#d8576b"
             ],
             [
              0.6666666666666666,
              "#ed7953"
             ],
             [
              0.7777777777777778,
              "#fb9f3a"
             ],
             [
              0.8888888888888888,
              "#fdca26"
             ],
             [
              1,
              "#f0f921"
             ]
            ],
            "type": "histogram2d"
           }
          ],
          "histogram2dcontour": [
           {
            "colorbar": {
             "outlinewidth": 0,
             "ticks": ""
            },
            "colorscale": [
             [
              0,
              "#0d0887"
             ],
             [
              0.1111111111111111,
              "#46039f"
             ],
             [
              0.2222222222222222,
              "#7201a8"
             ],
             [
              0.3333333333333333,
              "#9c179e"
             ],
             [
              0.4444444444444444,
              "#bd3786"
             ],
             [
              0.5555555555555556,
              "#d8576b"
             ],
             [
              0.6666666666666666,
              "#ed7953"
             ],
             [
              0.7777777777777778,
              "#fb9f3a"
             ],
             [
              0.8888888888888888,
              "#fdca26"
             ],
             [
              1,
              "#f0f921"
             ]
            ],
            "type": "histogram2dcontour"
           }
          ],
          "mesh3d": [
           {
            "colorbar": {
             "outlinewidth": 0,
             "ticks": ""
            },
            "type": "mesh3d"
           }
          ],
          "parcoords": [
           {
            "line": {
             "colorbar": {
              "outlinewidth": 0,
              "ticks": ""
             }
            },
            "type": "parcoords"
           }
          ],
          "pie": [
           {
            "automargin": true,
            "type": "pie"
           }
          ],
          "scatter": [
           {
            "fillpattern": {
             "fillmode": "overlay",
             "size": 10,
             "solidity": 0.2
            },
            "type": "scatter"
           }
          ],
          "scatter3d": [
           {
            "line": {
             "colorbar": {
              "outlinewidth": 0,
              "ticks": ""
             }
            },
            "marker": {
             "colorbar": {
              "outlinewidth": 0,
              "ticks": ""
             }
            },
            "type": "scatter3d"
           }
          ],
          "scattercarpet": [
           {
            "marker": {
             "colorbar": {
              "outlinewidth": 0,
              "ticks": ""
             }
            },
            "type": "scattercarpet"
           }
          ],
          "scattergeo": [
           {
            "marker": {
             "colorbar": {
              "outlinewidth": 0,
              "ticks": ""
             }
            },
            "type": "scattergeo"
           }
          ],
          "scattergl": [
           {
            "marker": {
             "colorbar": {
              "outlinewidth": 0,
              "ticks": ""
             }
            },
            "type": "scattergl"
           }
          ],
          "scattermap": [
           {
            "marker": {
             "colorbar": {
              "outlinewidth": 0,
              "ticks": ""
             }
            },
            "type": "scattermap"
           }
          ],
          "scattermapbox": [
           {
            "marker": {
             "colorbar": {
              "outlinewidth": 0,
              "ticks": ""
             }
            },
            "type": "scattermapbox"
           }
          ],
          "scatterpolar": [
           {
            "marker": {
             "colorbar": {
              "outlinewidth": 0,
              "ticks": ""
             }
            },
            "type": "scatterpolar"
           }
          ],
          "scatterpolargl": [
           {
            "marker": {
             "colorbar": {
              "outlinewidth": 0,
              "ticks": ""
             }
            },
            "type": "scatterpolargl"
           }
          ],
          "scatterternary": [
           {
            "marker": {
             "colorbar": {
              "outlinewidth": 0,
              "ticks": ""
             }
            },
            "type": "scatterternary"
           }
          ],
          "surface": [
           {
            "colorbar": {
             "outlinewidth": 0,
             "ticks": ""
            },
            "colorscale": [
             [
              0,
              "#0d0887"
             ],
             [
              0.1111111111111111,
              "#46039f"
             ],
             [
              0.2222222222222222,
              "#7201a8"
             ],
             [
              0.3333333333333333,
              "#9c179e"
             ],
             [
              0.4444444444444444,
              "#bd3786"
             ],
             [
              0.5555555555555556,
              "#d8576b"
             ],
             [
              0.6666666666666666,
              "#ed7953"
             ],
             [
              0.7777777777777778,
              "#fb9f3a"
             ],
             [
              0.8888888888888888,
              "#fdca26"
             ],
             [
              1,
              "#f0f921"
             ]
            ],
            "type": "surface"
           }
          ],
          "table": [
           {
            "cells": {
             "fill": {
              "color": "#EBF0F8"
             },
             "line": {
              "color": "white"
             }
            },
            "header": {
             "fill": {
              "color": "#C8D4E3"
             },
             "line": {
              "color": "white"
             }
            },
            "type": "table"
           }
          ]
         },
         "layout": {
          "annotationdefaults": {
           "arrowcolor": "#2a3f5f",
           "arrowhead": 0,
           "arrowwidth": 1
          },
          "autotypenumbers": "strict",
          "coloraxis": {
           "colorbar": {
            "outlinewidth": 0,
            "ticks": ""
           }
          },
          "colorscale": {
           "diverging": [
            [
             0,
             "#8e0152"
            ],
            [
             0.1,
             "#c51b7d"
            ],
            [
             0.2,
             "#de77ae"
            ],
            [
             0.3,
             "#f1b6da"
            ],
            [
             0.4,
             "#fde0ef"
            ],
            [
             0.5,
             "#f7f7f7"
            ],
            [
             0.6,
             "#e6f5d0"
            ],
            [
             0.7,
             "#b8e186"
            ],
            [
             0.8,
             "#7fbc41"
            ],
            [
             0.9,
             "#4d9221"
            ],
            [
             1,
             "#276419"
            ]
           ],
           "sequential": [
            [
             0,
             "#0d0887"
            ],
            [
             0.1111111111111111,
             "#46039f"
            ],
            [
             0.2222222222222222,
             "#7201a8"
            ],
            [
             0.3333333333333333,
             "#9c179e"
            ],
            [
             0.4444444444444444,
             "#bd3786"
            ],
            [
             0.5555555555555556,
             "#d8576b"
            ],
            [
             0.6666666666666666,
             "#ed7953"
            ],
            [
             0.7777777777777778,
             "#fb9f3a"
            ],
            [
             0.8888888888888888,
             "#fdca26"
            ],
            [
             1,
             "#f0f921"
            ]
           ],
           "sequentialminus": [
            [
             0,
             "#0d0887"
            ],
            [
             0.1111111111111111,
             "#46039f"
            ],
            [
             0.2222222222222222,
             "#7201a8"
            ],
            [
             0.3333333333333333,
             "#9c179e"
            ],
            [
             0.4444444444444444,
             "#bd3786"
            ],
            [
             0.5555555555555556,
             "#d8576b"
            ],
            [
             0.6666666666666666,
             "#ed7953"
            ],
            [
             0.7777777777777778,
             "#fb9f3a"
            ],
            [
             0.8888888888888888,
             "#fdca26"
            ],
            [
             1,
             "#f0f921"
            ]
           ]
          },
          "colorway": [
           "#636efa",
           "#EF553B",
           "#00cc96",
           "#ab63fa",
           "#FFA15A",
           "#19d3f3",
           "#FF6692",
           "#B6E880",
           "#FF97FF",
           "#FECB52"
          ],
          "font": {
           "color": "#2a3f5f"
          },
          "geo": {
           "bgcolor": "white",
           "lakecolor": "white",
           "landcolor": "#E5ECF6",
           "showlakes": true,
           "showland": true,
           "subunitcolor": "white"
          },
          "hoverlabel": {
           "align": "left"
          },
          "hovermode": "closest",
          "mapbox": {
           "style": "light"
          },
          "paper_bgcolor": "white",
          "plot_bgcolor": "#E5ECF6",
          "polar": {
           "angularaxis": {
            "gridcolor": "white",
            "linecolor": "white",
            "ticks": ""
           },
           "bgcolor": "#E5ECF6",
           "radialaxis": {
            "gridcolor": "white",
            "linecolor": "white",
            "ticks": ""
           }
          },
          "scene": {
           "xaxis": {
            "backgroundcolor": "#E5ECF6",
            "gridcolor": "white",
            "gridwidth": 2,
            "linecolor": "white",
            "showbackground": true,
            "ticks": "",
            "zerolinecolor": "white"
           },
           "yaxis": {
            "backgroundcolor": "#E5ECF6",
            "gridcolor": "white",
            "gridwidth": 2,
            "linecolor": "white",
            "showbackground": true,
            "ticks": "",
            "zerolinecolor": "white"
           },
           "zaxis": {
            "backgroundcolor": "#E5ECF6",
            "gridcolor": "white",
            "gridwidth": 2,
            "linecolor": "white",
            "showbackground": true,
            "ticks": "",
            "zerolinecolor": "white"
           }
          },
          "shapedefaults": {
           "line": {
            "color": "#2a3f5f"
           }
          },
          "ternary": {
           "aaxis": {
            "gridcolor": "white",
            "linecolor": "white",
            "ticks": ""
           },
           "baxis": {
            "gridcolor": "white",
            "linecolor": "white",
            "ticks": ""
           },
           "bgcolor": "#E5ECF6",
           "caxis": {
            "gridcolor": "white",
            "linecolor": "white",
            "ticks": ""
           }
          },
          "title": {
           "x": 0.05
          },
          "xaxis": {
           "automargin": true,
           "gridcolor": "white",
           "linecolor": "white",
           "ticks": "",
           "title": {
            "standoff": 15
           },
           "zerolinecolor": "white",
           "zerolinewidth": 2
          },
          "yaxis": {
           "automargin": true,
           "gridcolor": "white",
           "linecolor": "white",
           "ticks": "",
           "title": {
            "standoff": 15
           },
           "zerolinecolor": "white",
           "zerolinewidth": 2
          }
         }
        },
        "title": {
         "text": "ROC 曲线对比"
        },
        "xaxis": {
         "title": {
          "text": "False Positive Rate"
         }
        },
        "yaxis": {
         "title": {
          "text": "True Positive Rate"
         }
        }
       }
      }
     },
     "metadata": {},
     "output_type": "display_data"
    },
    {
     "data": {
      "application/vnd.plotly.v1+json": {
       "config": {
        "plotlyServerURL": "https://plot.ly"
       },
       "data": [
        {
         "hovertemplate": "错误率 (1 - Accuracy)=%{x}<br>Equalized Odds 差异=%{y}<br>Model=%{text}<extra></extra>",
         "legendgroup": "",
         "marker": {
          "color": "#636efa",
          "symbol": "circle"
         },
         "mode": "markers+text",
         "name": "",
         "orientation": "v",
         "showlegend": false,
         "text": [
          "Baseline",
          "Postprocessing",
          "ExpGradient"
         ],
         "textposition": "top center",
         "type": "scatter",
         "x": {
          "bdata": "5s/4YiNA1D+0VYu8ZTjWP0aAaE1MqtQ/",
          "dtype": "f8"
         },
         "xaxis": "x",
         "y": {
          "bdata": "kC7x0uws0T/gKczI6QyLP6AfyhU+Wp0/",
          "dtype": "f8"
         },
         "yaxis": "y"
        }
       ],
       "layout": {
        "legend": {
         "tracegroupgap": 0
        },
        "template": {
         "data": {
          "bar": [
           {
            "error_x": {
             "color": "#2a3f5f"
            },
            "error_y": {
             "color": "#2a3f5f"
            },
            "marker": {
             "line": {
              "color": "#E5ECF6",
              "width": 0.5
             },
             "pattern": {
              "fillmode": "overlay",
              "size": 10,
              "solidity": 0.2
             }
            },
            "type": "bar"
           }
          ],
          "barpolar": [
           {
            "marker": {
             "line": {
              "color": "#E5ECF6",
              "width": 0.5
             },
             "pattern": {
              "fillmode": "overlay",
              "size": 10,
              "solidity": 0.2
             }
            },
            "type": "barpolar"
           }
          ],
          "carpet": [
           {
            "aaxis": {
             "endlinecolor": "#2a3f5f",
             "gridcolor": "white",
             "linecolor": "white",
             "minorgridcolor": "white",
             "startlinecolor": "#2a3f5f"
            },
            "baxis": {
             "endlinecolor": "#2a3f5f",
             "gridcolor": "white",
             "linecolor": "white",
             "minorgridcolor": "white",
             "startlinecolor": "#2a3f5f"
            },
            "type": "carpet"
           }
          ],
          "choropleth": [
           {
            "colorbar": {
             "outlinewidth": 0,
             "ticks": ""
            },
            "type": "choropleth"
           }
          ],
          "contour": [
           {
            "colorbar": {
             "outlinewidth": 0,
             "ticks": ""
            },
            "colorscale": [
             [
              0,
              "#0d0887"
             ],
             [
              0.1111111111111111,
              "#46039f"
             ],
             [
              0.2222222222222222,
              "#7201a8"
             ],
             [
              0.3333333333333333,
              "#9c179e"
             ],
             [
              0.4444444444444444,
              "#bd3786"
             ],
             [
              0.5555555555555556,
              "#d8576b"
             ],
             [
              0.6666666666666666,
              "#ed7953"
             ],
             [
              0.7777777777777778,
              "#fb9f3a"
             ],
             [
              0.8888888888888888,
              "#fdca26"
             ],
             [
              1,
              "#f0f921"
             ]
            ],
            "type": "contour"
           }
          ],
          "contourcarpet": [
           {
            "colorbar": {
             "outlinewidth": 0,
             "ticks": ""
            },
            "type": "contourcarpet"
           }
          ],
          "heatmap": [
           {
            "colorbar": {
             "outlinewidth": 0,
             "ticks": ""
            },
            "colorscale": [
             [
              0,
              "#0d0887"
             ],
             [
              0.1111111111111111,
              "#46039f"
             ],
             [
              0.2222222222222222,
              "#7201a8"
             ],
             [
              0.3333333333333333,
              "#9c179e"
             ],
             [
              0.4444444444444444,
              "#bd3786"
             ],
             [
              0.5555555555555556,
              "#d8576b"
             ],
             [
              0.6666666666666666,
              "#ed7953"
             ],
             [
              0.7777777777777778,
              "#fb9f3a"
             ],
             [
              0.8888888888888888,
              "#fdca26"
             ],
             [
              1,
              "#f0f921"
             ]
            ],
            "type": "heatmap"
           }
          ],
          "histogram": [
           {
            "marker": {
             "pattern": {
              "fillmode": "overlay",
              "size": 10,
              "solidity": 0.2
             }
            },
            "type": "histogram"
           }
          ],
          "histogram2d": [
           {
            "colorbar": {
             "outlinewidth": 0,
             "ticks": ""
            },
            "colorscale": [
             [
              0,
              "#0d0887"
             ],
             [
              0.1111111111111111,
              "#46039f"
             ],
             [
              0.2222222222222222,
              "#7201a8"
             ],
             [
              0.3333333333333333,
              "#9c179e"
             ],
             [
              0.4444444444444444,
              "#bd3786"
             ],
             [
              0.5555555555555556,
              "#d8576b"
             ],
             [
              0.6666666666666666,
              "#ed7953"
             ],
             [
              0.7777777777777778,
              "#fb9f3a"
             ],
             [
              0.8888888888888888,
              "#fdca26"
             ],
             [
              1,
              "#f0f921"
             ]
            ],
            "type": "histogram2d"
           }
          ],
          "histogram2dcontour": [
           {
            "colorbar": {
             "outlinewidth": 0,
             "ticks": ""
            },
            "colorscale": [
             [
              0,
              "#0d0887"
             ],
             [
              0.1111111111111111,
              "#46039f"
             ],
             [
              0.2222222222222222,
              "#7201a8"
             ],
             [
              0.3333333333333333,
              "#9c179e"
             ],
             [
              0.4444444444444444,
              "#bd3786"
             ],
             [
              0.5555555555555556,
              "#d8576b"
             ],
             [
              0.6666666666666666,
              "#ed7953"
             ],
             [
              0.7777777777777778,
              "#fb9f3a"
             ],
             [
              0.8888888888888888,
              "#fdca26"
             ],
             [
              1,
              "#f0f921"
             ]
            ],
            "type": "histogram2dcontour"
           }
          ],
          "mesh3d": [
           {
            "colorbar": {
             "outlinewidth": 0,
             "ticks": ""
            },
            "type": "mesh3d"
           }
          ],
          "parcoords": [
           {
            "line": {
             "colorbar": {
              "outlinewidth": 0,
              "ticks": ""
             }
            },
            "type": "parcoords"
           }
          ],
          "pie": [
           {
            "automargin": true,
            "type": "pie"
           }
          ],
          "scatter": [
           {
            "fillpattern": {
             "fillmode": "overlay",
             "size": 10,
             "solidity": 0.2
            },
            "type": "scatter"
           }
          ],
          "scatter3d": [
           {
            "line": {
             "colorbar": {
              "outlinewidth": 0,
              "ticks": ""
             }
            },
            "marker": {
             "colorbar": {
              "outlinewidth": 0,
              "ticks": ""
             }
            },
            "type": "scatter3d"
           }
          ],
          "scattercarpet": [
           {
            "marker": {
             "colorbar": {
              "outlinewidth": 0,
              "ticks": ""
             }
            },
            "type": "scattercarpet"
           }
          ],
          "scattergeo": [
           {
            "marker": {
             "colorbar": {
              "outlinewidth": 0,
              "ticks": ""
             }
            },
            "type": "scattergeo"
           }
          ],
          "scattergl": [
           {
            "marker": {
             "colorbar": {
              "outlinewidth": 0,
              "ticks": ""
             }
            },
            "type": "scattergl"
           }
          ],
          "scattermap": [
           {
            "marker": {
             "colorbar": {
              "outlinewidth": 0,
              "ticks": ""
             }
            },
            "type": "scattermap"
           }
          ],
          "scattermapbox": [
           {
            "marker": {
             "colorbar": {
              "outlinewidth": 0,
              "ticks": ""
             }
            },
            "type": "scattermapbox"
           }
          ],
          "scatterpolar": [
           {
            "marker": {
             "colorbar": {
              "outlinewidth": 0,
              "ticks": ""
             }
            },
            "type": "scatterpolar"
           }
          ],
          "scatterpolargl": [
           {
            "marker": {
             "colorbar": {
              "outlinewidth": 0,
              "ticks": ""
             }
            },
            "type": "scatterpolargl"
           }
          ],
          "scatterternary": [
           {
            "marker": {
             "colorbar": {
              "outlinewidth": 0,
              "ticks": ""
             }
            },
            "type": "scatterternary"
           }
          ],
          "surface": [
           {
            "colorbar": {
             "outlinewidth": 0,
             "ticks": ""
            },
            "colorscale": [
             [
              0,
              "#0d0887"
             ],
             [
              0.1111111111111111,
              "#46039f"
             ],
             [
              0.2222222222222222,
              "#7201a8"
             ],
             [
              0.3333333333333333,
              "#9c179e"
             ],
             [
              0.4444444444444444,
              "#bd3786"
             ],
             [
              0.5555555555555556,
              "#d8576b"
             ],
             [
              0.6666666666666666,
              "#ed7953"
             ],
             [
              0.7777777777777778,
              "#fb9f3a"
             ],
             [
              0.8888888888888888,
              "#fdca26"
             ],
             [
              1,
              "#f0f921"
             ]
            ],
            "type": "surface"
           }
          ],
          "table": [
           {
            "cells": {
             "fill": {
              "color": "#EBF0F8"
             },
             "line": {
              "color": "white"
             }
            },
            "header": {
             "fill": {
              "color": "#C8D4E3"
             },
             "line": {
              "color": "white"
             }
            },
            "type": "table"
           }
          ]
         },
         "layout": {
          "annotationdefaults": {
           "arrowcolor": "#2a3f5f",
           "arrowhead": 0,
           "arrowwidth": 1
          },
          "autotypenumbers": "strict",
          "coloraxis": {
           "colorbar": {
            "outlinewidth": 0,
            "ticks": ""
           }
          },
          "colorscale": {
           "diverging": [
            [
             0,
             "#8e0152"
            ],
            [
             0.1,
             "#c51b7d"
            ],
            [
             0.2,
             "#de77ae"
            ],
            [
             0.3,
             "#f1b6da"
            ],
            [
             0.4,
             "#fde0ef"
            ],
            [
             0.5,
             "#f7f7f7"
            ],
            [
             0.6,
             "#e6f5d0"
            ],
            [
             0.7,
             "#b8e186"
            ],
            [
             0.8,
             "#7fbc41"
            ],
            [
             0.9,
             "#4d9221"
            ],
            [
             1,
             "#276419"
            ]
           ],
           "sequential": [
            [
             0,
             "#0d0887"
            ],
            [
             0.1111111111111111,
             "#46039f"
            ],
            [
             0.2222222222222222,
             "#7201a8"
            ],
            [
             0.3333333333333333,
             "#9c179e"
            ],
            [
             0.4444444444444444,
             "#bd3786"
            ],
            [
             0.5555555555555556,
             "#d8576b"
            ],
            [
             0.6666666666666666,
             "#ed7953"
            ],
            [
             0.7777777777777778,
             "#fb9f3a"
            ],
            [
             0.8888888888888888,
             "#fdca26"
            ],
            [
             1,
             "#f0f921"
            ]
           ],
           "sequentialminus": [
            [
             0,
             "#0d0887"
            ],
            [
             0.1111111111111111,
             "#46039f"
            ],
            [
             0.2222222222222222,
             "#7201a8"
            ],
            [
             0.3333333333333333,
             "#9c179e"
            ],
            [
             0.4444444444444444,
             "#bd3786"
            ],
            [
             0.5555555555555556,
             "#d8576b"
            ],
            [
             0.6666666666666666,
             "#ed7953"
            ],
            [
             0.7777777777777778,
             "#fb9f3a"
            ],
            [
             0.8888888888888888,
             "#fdca26"
            ],
            [
             1,
             "#f0f921"
            ]
           ]
          },
          "colorway": [
           "#636efa",
           "#EF553B",
           "#00cc96",
           "#ab63fa",
           "#FFA15A",
           "#19d3f3",
           "#FF6692",
           "#B6E880",
           "#FF97FF",
           "#FECB52"
          ],
          "font": {
           "color": "#2a3f5f"
          },
          "geo": {
           "bgcolor": "white",
           "lakecolor": "white",
           "landcolor": "#E5ECF6",
           "showlakes": true,
           "showland": true,
           "subunitcolor": "white"
          },
          "hoverlabel": {
           "align": "left"
          },
          "hovermode": "closest",
          "mapbox": {
           "style": "light"
          },
          "paper_bgcolor": "white",
          "plot_bgcolor": "#E5ECF6",
          "polar": {
           "angularaxis": {
            "gridcolor": "white",
            "linecolor": "white",
            "ticks": ""
           },
           "bgcolor": "#E5ECF6",
           "radialaxis": {
            "gridcolor": "white",
            "linecolor": "white",
            "ticks": ""
           }
          },
          "scene": {
           "xaxis": {
            "backgroundcolor": "#E5ECF6",
            "gridcolor": "white",
            "gridwidth": 2,
            "linecolor": "white",
            "showbackground": true,
            "ticks": "",
            "zerolinecolor": "white"
           },
           "yaxis": {
            "backgroundcolor": "#E5ECF6",
            "gridcolor": "white",
            "gridwidth": 2,
            "linecolor": "white",
            "showbackground": true,
            "ticks": "",
            "zerolinecolor": "white"
           },
           "zaxis": {
            "backgroundcolor": "#E5ECF6",
            "gridcolor": "white",
            "gridwidth": 2,
            "linecolor": "white",
            "showbackground": true,
            "ticks": "",
            "zerolinecolor": "white"
           }
          },
          "shapedefaults": {
           "line": {
            "color": "#2a3f5f"
           }
          },
          "ternary": {
           "aaxis": {
            "gridcolor": "white",
            "linecolor": "white",
            "ticks": ""
           },
           "baxis": {
            "gridcolor": "white",
            "linecolor": "white",
            "ticks": ""
           },
           "bgcolor": "#E5ECF6",
           "caxis": {
            "gridcolor": "white",
            "linecolor": "white",
            "ticks": ""
           }
          },
          "title": {
           "x": 0.05
          },
          "xaxis": {
           "automargin": true,
           "gridcolor": "white",
           "linecolor": "white",
           "ticks": "",
           "title": {
            "standoff": 15
           },
           "zerolinecolor": "white",
           "zerolinewidth": 2
          },
          "yaxis": {
           "automargin": true,
           "gridcolor": "white",
           "linecolor": "white",
           "ticks": "",
           "title": {
            "standoff": 15
           },
           "zerolinecolor": "white",
           "zerolinewidth": 2
          }
         }
        },
        "title": {
         "text": "模型性能与公平性权衡图"
        },
        "xaxis": {
         "anchor": "y",
         "domain": [
          0,
          1
         ],
         "title": {
          "text": "错误率 (1 - Accuracy)"
         }
        },
        "yaxis": {
         "anchor": "x",
         "domain": [
          0,
          1
         ],
         "title": {
          "text": "Equalized Odds 差异"
         }
        }
       }
      }
     },
     "metadata": {},
     "output_type": "display_data"
    }
   ],
   "source": [
    "# ============== (A) 分布图 ==============\n",
    "fig_dist = px.histogram(\n",
    "    data, x=\"Two_yr_Recidivism\", color=sensitive_name, barmode=\"overlay\",\n",
    "    histnorm='density', opacity=0.6,\n",
    "    title=\"两年内再犯分布（按非裔 vs 非非裔）\"\n",
    ")\n",
    "fig_dist.update_layout(xaxis_title=\"Two_yr_Recidivism\", yaxis_title=\"Density\")\n",
    "fig_dist.show()\n",
    "\n",
    "# ============== (B) 柱状图：基线模型的分组指标 ==============\n",
    "group_metrics = metric_frame_baseline.by_group.reset_index()\n",
    "fig_bar = go.Figure()\n",
    "for metric in [\"accuracy\", \"fpr\", \"fnr\"]:\n",
    "    fig_bar.add_trace(go.Bar(\n",
    "        x=group_metrics[sensitive_name].astype(str),\n",
    "        y=group_metrics[metric],\n",
    "        name=metric\n",
    "    ))\n",
    "fig_bar.update_layout(\n",
    "    barmode=\"group\",\n",
    "    title=\"基线模型：不同群体的性能指标\",\n",
    "    xaxis_title=f\"{sensitive_name} (0=非, 1=是)\",\n",
    "    yaxis_title=\"指标值\"\n",
    ")\n",
    "fig_bar.show()\n",
    "\n",
    "# ============== (C) ROC 曲线：基线 vs 后处理 ==============\n",
    "fpr_baseline, tpr_baseline, _ = roc_curve(y_test, y_pred_proba_baseline)\n",
    "\n",
    "# 如果后处理模型有概率\n",
    "if np.any(y_pred_proba_post):\n",
    "    fpr_post, tpr_post, _ = roc_curve(y_test, y_pred_proba_post)\n",
    "else:\n",
    "    fpr_post, tpr_post = [], []\n",
    "\n",
    "fig_roc = go.Figure()\n",
    "fig_roc.add_trace(go.Scatter(\n",
    "    x=fpr_baseline, y=tpr_baseline, mode='lines',\n",
    "    name=f\"Baseline (AUC={auc_baseline:.2f})\"\n",
    "))\n",
    "if len(fpr_post) > 0:\n",
    "    fig_roc.add_trace(go.Scatter(\n",
    "        x=fpr_post, y=tpr_post, mode='lines',\n",
    "        name=f\"Postprocessing (AUC={auc_post:.2f})\"\n",
    "    ))\n",
    "fig_roc.update_layout(\n",
    "    title=\"ROC 曲线对比\",\n",
    "    xaxis_title=\"False Positive Rate\",\n",
    "    yaxis_title=\"True Positive Rate\"\n",
    ")\n",
    "fig_roc.show()\n",
    "\n",
    "# ============== (D) 性能-公平性散点图 ==============\n",
    "fig_scatter = px.scatter(\n",
    "    results_df, x=\"Error_Rate\", y=\"Equalized_Odds\", text=\"Model\",\n",
    "    title=\"模型性能与公平性权衡图\",\n",
    "    labels={\"Error_Rate\": \"错误率 (1 - Accuracy)\", \"Equalized_Odds\": \"Equalized Odds 差异\"}\n",
    ")\n",
    "fig_scatter.update_traces(textposition='top center')\n",
    "fig_scatter.show()\n"
   ]
  },
  {
   "cell_type": "markdown",
   "metadata": {},
   "source": [
    "## 4. 反思与总结\n",
    "\n",
    "1. **工具或技术的选择**：\n",
    "   - 我们使用了 `fairlearn` 库来衡量并改进模型的公平性。这对于涉及不同敏感群体的预测非常重要。\n",
    "   - 使用 `ThresholdOptimizer`（后处理方法）可以在不重新训练基线模型的情况下进行公平性调优；而 `ExponentiatedGradient` 直接在训练阶段施加约束。\n",
    "\n",
    "2. **遇到的挑战与解决**：\n",
    "   - **挑战**：获取概率预测时，一些模型（如 `ExponentiatedGradient`）可能不提供 `predict_proba`。\n",
    "   - **解决**：暂时用类别预测近似计算 AUC，或者查看官方文档，看看是否能在回调函数中获取 logits。\n",
    "\n",
    "3. **对数据和统计的理解变化**：\n",
    "   - 在传统的准确率、AUC 等指标之外，还需关注不同群体的 `FPR`、`FNR` 等，以衡量模型在不同人群中的表现差异。\n",
    "\n",
    "4. **实践应用**：\n",
    "   - 在司法、医疗、招聘等高风险领域，对不同敏感群体进行公平性评估至关重要。\n",
    "   - 若发现模型对某群体具有较高的误报或误拒，就需要进一步分析原因，并做相应的算法或数据层面改进。\n",
    "\n",
    "5. **伦理影响**：\n",
    "   - 数据中的偏见可能导致模型加剧社会不公；需要在采集、标注和使用时保持审慎。\n",
    "   - 在做公平性约束时，也要平衡模型性能与实际应用需求，避免因过度追求公平而忽视整体准确性。\n",
    "\n",
    "## 最终小结\n",
    "通过本项目，我们学会了如何：\n",
    "- 使用 `fairlearn` 评估并改进模型的公平性；\n",
    "- 对比后处理和训练时约束的两种方法；\n",
    "- 在可视化中观察不同群体指标的差异，并思考这些差异的成因和影响。\n",
    "\n",
    "如果你想继续扩展，可以尝试：\n",
    "- 使用更多敏感属性（如性别、年龄段）做多维分析；\n",
    "- 尝试更复杂的模型（随机森林、XGBoost 等）并结合公平性方法；\n",
    "- 深入研究如何在实际应用中平衡公平性和性能。"
   ]
  }
 ],
 "metadata": {
  "kernelspec": {
   "display_name": "Python 3",
   "language": "python",
   "name": "python3"
  },
  "language_info": {
   "codemirror_mode": {
    "name": "ipython",
    "version": 3
   },
   "file_extension": ".py",
   "mimetype": "text/x-python",
   "name": "python",
   "nbconvert_exporter": "python",
   "pygments_lexer": "ipython3",
   "version": "3.10.16"
  }
 },
 "nbformat": 4,
 "nbformat_minor": 5
}
