version https://git-lfs.github.com/spec/v1
oid sha256:4fa60ac46731fe7de24fe43cad08af6d3d7674242d674f4fa91ff27cb7fb7704
size 13472
