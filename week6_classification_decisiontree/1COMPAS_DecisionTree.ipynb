version https://git-lfs.github.com/spec/v1
oid sha256:3e303d9aff814510a8ac120d3384c8427979f4c62da543f14a4eacb2c5dfa23d
size 1052445
