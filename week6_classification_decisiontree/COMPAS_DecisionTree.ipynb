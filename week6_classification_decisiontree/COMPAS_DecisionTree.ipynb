{
 "cells": [
  {
   "cell_type": "markdown",
   "metadata": {},
   "source": [
    "# COMPAS 决策树与 KNN 项目\n",
    "\n",
    "本 Notebook 演示了如何使用 COMPAS（美国司法系统再犯预测）数据集，结合决策树和 KNN 两种模型进行分类实验。\n",
    "\n",
    "## 实验目标\n",
    "- 读取并处理 `compas-scores-raw.csv` 数据；\n",
    "- 将 `ScoreText` 转换为多分类标签 (可能出现 -1, 0, 1, 2 四类)；\n",
    "- 训练 KNN 与 决策树，查看各自准确率与混淆矩阵；\n",
    "- 对敏感特征（种族、性别）做缩放 (×0.5) 以观察其对决策树的影响；\n",
    "- 通过可视化决策树，理解模型如何使用特征 (特别是 `RawScore` 和敏感属性) 进行分裂。"
   ]
  },
  {
   "cell_type": "code",
   "execution_count": null,
   "metadata": {
    "collapsed": false
   },
   "outputs": [
    {
     "ename": "",
     "evalue": "",
     "output_type": "error",
     "traceback": [
      "\u001b[1;31mThe kernel failed to start as 'InterruptiblePdb' could not be imported from 'most likely due to a circular import'.\n",
      "\u001b[1;31mClick <a href='https://aka.ms/kernelFailuresModuleImportErrFromFile'>here</a> for more info."
     ]
    }
   ],
   "source": [
    "import pandas as pd\n",
    "import numpy as np\n",
    "from sklearn.model_selection import train_test_split\n",
    "from sklearn.preprocessing import StandardScaler\n",
    "from sklearn.metrics import accuracy_score, confusion_matrix, classification_report\n",
    "from sklearn.neighbors import KNeighborsClassifier\n",
    "from sklearn.tree import DecisionTreeClassifier, plot_tree\n",
    "import matplotlib.pyplot as plt\n",
    "\n",
    "def print_tree_details(clf, feature_names, node_index=0, depth=0):\n",
    "    \"\"\"\n",
    "    递归打印决策树每个节点的详细信息:\n",
    "    - 特征名称 (feature)\n",
    "    - 阈值 (threshold)\n",
    "    - Gini impurity\n",
    "    - 样本数 (n_node_samples)\n",
    "    - value(各类别样本数)\n",
    "    \"\"\"\n",
    "    left_child = clf.tree_.children_left[node_index]\n",
    "    right_child = clf.tree_.children_right[node_index]\n",
    "    threshold = clf.tree_.threshold[node_index]\n",
    "    feature = clf.tree_.feature[node_index]\n",
    "    impurity = clf.tree_.impurity[node_index]\n",
    "    n_samples = clf.tree_.n_node_samples[node_index]\n",
    "    value = clf.tree_.value[node_index]\n",
    "\n",
    "    indent = \"  \" * depth\n",
    "\n",
    "    if left_child == -1 and right_child == -1:\n",
    "        # 叶子节点\n",
    "        print(f\"{indent}Leaf node {node_index}:\")\n",
    "        print(f\"{indent}  gini = {impurity:.3f}, samples = {n_samples}, value = {value}\")\n",
    "    else:\n",
    "        # 内部节点\n",
    "        print(f\"{indent}Node {node_index}:\")\n",
    "        print(f\"{indent}  If {feature_names[feature]} <= {threshold:.3f} \"\n",
    "              f\"(gini = {impurity:.3f}, samples = {n_samples}, value = {value}):\")\n",
    "        print_tree_details(clf, feature_names, left_child, depth + 1)\n",
    "        print_tree_details(clf, feature_names, right_child, depth + 1)\n"
   ]
  },
  {
   "cell_type": "markdown",
   "metadata": {},
   "source": [
    "## 1. 读取数据\n",
    "这里我们读取 `compas-scores-raw.csv`，并先打印列名来确认数据结构。\n",
    "\n",
    "本数据中包含 `DateOfBirth`、`RawScore`、`Sex_Code_Text`、`Ethnic_Code_Text`、`ScoreText` 等列。\n",
    "\n",
    "在后续特征工程中，我们将从 `DateOfBirth` 中计算年龄，并将 `ScoreText` 转化为多分类标签。"
   ]
  },
  {
   "cell_type": "code",
   "execution_count": null,
   "metadata": {},
   "outputs": [],
   "source": [
    "# =========== 1. 读取数据 ===========\n",
    "df = pd.read_csv(\"/Users/xiangxiaoxin/Documents/GitHub/profile_intro_datascience/week6_classification_decisiontree/data/compas-scores-raw.csv\")\n",
    "print(df.columns)  # 确认实际列名\n",
    "\n",
    "# 显示前5行\n",
    "df.head()"
   ]
  },
  {
   "cell_type": "markdown",
   "metadata": {},
   "source": [
    "## 2. 数据清洗 & 特征工程\n",
    "\n",
    "1. **计算 Age**：从 `DateOfBirth` 中提取年份，再用当前年份相减；\n",
    "2. **选择特征**：`[\"Age\", \"RawScore\", \"Sex_Code_Text\", \"Ethnic_Code_Text\"]`；\n",
    "3. **目标变量**：`ScoreText` 用 `pd.factorize` 得到多分类标签（-1, 0, 1, 2 等）。\n",
    "4. **独热编码**：对性别、族裔做独热编码 (drop_first=True)；\n",
    "5. **(可选) 缩放敏感特征**：将 `Sex_Code_Text_XXX`、`Ethnic_Code_Text_XXX` 列乘以 0.5，想看看是否能“弱化”它们在后续模型中的影响。"
   ]
  },
  {
   "cell_type": "code",
   "execution_count": null,
   "metadata": {
    "collapsed": false
   },
   "outputs": [
    {
     "ename": "",
     "evalue": "",
     "output_type": "error",
     "traceback": [
      "\u001b[1;31mThe kernel failed to start as 'InterruptiblePdb' could not be imported from 'most likely due to a circular import'.\n",
      "\u001b[1;31mClick <a href='https://aka.ms/kernelFailuresModuleImportErrFromFile'>here</a> for more info."
     ]
    }
   ],
   "source": [
    "df[\"Age\"] = pd.to_datetime(df[\"DateOfBirth\"]).dt.year\n",
    "current_year = pd.Timestamp.now().year\n",
    "df[\"Age\"] = current_year - df[\"Age\"]\n",
    "\n",
    "# 构造特征 X\n",
    "X = df[[\"Age\", \"RawScore\", \"Sex_Code_Text\", \"Ethnic_Code_Text\"]]\n",
    "\n",
    "# 目标变量\n",
    "y, _ = pd.factorize(df[\"ScoreText\"])\n",
    "\n",
    "# 对 Sex_Code_Text, Ethnic_Code_Text 做独热编码 (drop_first=True)\n",
    "X = pd.get_dummies(X, columns=[\"Sex_Code_Text\", \"Ethnic_Code_Text\"], drop_first=True)\n",
    "\n",
    "###############################################\n",
    "# 3. 缩放敏感特征\n",
    "# 识别敏感列: 包含 \"Sex_Code_Text_\" 或 \"Ethnic_Code_Text_\"\n",
    "###############################################\n",
    "sensitive_cols = [col for col in X.columns if col.startswith(\"Sex_Code_Text_\") or col.startswith(\"Ethnic_Code_Text_\")]\n",
    "\n",
    "# 将这些敏感列乘以 0.5 (你可根据需要调整这个系数)\n",
    "for col in sensitive_cols:\n",
    "    X[col] = X[col] * 0.5\n",
    "\n",
    "X.head()"
   ]
  },
  {
   "cell_type": "markdown",
   "metadata": {},
   "source": [
    "**注意**：\n",
    "- 在决策树里，“乘以 0.5”通常不会显著改变决策逻辑，因为决策树基于信息增益做分裂；\n",
    "- 但对 KNN 或线性模型，缩放敏感特征可能会减弱它们在距离或系数上的影响。\n",
    "\n",
    "## 4. 标准化数值特征\n",
    "对所有特征（包括 RawScore、Age、以及缩放后的敏感列）做标准化。"
   ]
  },
  {
   "cell_type": "code",
   "execution_count": null,
   "metadata": {
    "collapsed": false
   },
   "outputs": [],
   "source": [
    "scaler = StandardScaler()\n",
    "X_scaled = scaler.fit_transform(X)\n",
    "\n",
    "# 5. 划分训练集和测试集\n",
    "X_train, X_test, y_train, y_test = train_test_split(\n",
    "    X_scaled, y, test_size=0.3, random_state=42\n",
    ")\n",
    "X_train.shape, X_test.shape"
   ]
  },
  {
   "cell_type": "markdown",
   "metadata": {},
   "source": [
    "## 6. 训练模型 (KNN)\n",
    "\n",
    "这里先用 KNN (k=5) 进行分类，并打印准确率、混淆矩阵、分类报告。\n",
    "\n",
    "**观察要点**：\n",
    "1. 是否只预测多数类？\n",
    "2. 对四个类别（-1,0,1,2）的 precision/recall/f1-score 是否有较大差异？\n",
    "3. UndefinedMetricWarning 通常意味着某类几乎没有被预测到。"
   ]
  },
  {
   "cell_type": "code",
   "execution_count": null,
   "metadata": {
    "collapsed": false
   },
   "outputs": [],
   "source": [
    "knn = KNeighborsClassifier(n_neighbors=5)\n",
    "knn.fit(X_train, y_train)\n",
    "knn_pred = knn.predict(X_test)\n",
    "\n",
    "print(\"KNN Accuracy:\", accuracy_score(y_test, knn_pred))\n",
    "print(\"KNN Confusion Matrix:\\n\", confusion_matrix(y_test, knn_pred))\n",
    "print(\"KNN Classification Report:\\n\", classification_report(y_test, knn_pred))"
   ]
  },
  {
   "cell_type": "markdown",
   "metadata": {},
   "source": [
    "若 KNN 准确率较高（可能 93% 左右），说明在当前数据下，KNN 对 `RawScore + 缩放敏感特征` 仍能区分大部分样本。但需要仔细查看各类指标，尤其 -1 类是否有足够的识别。"
   ]
  },
  {
   "cell_type": "markdown",
   "metadata": {},
   "source": [
    "## 7. 训练模型 (Decision Tree)\n",
    "\n",
    "这里是实验的重点：\n",
    "1. **max_depth=5**：限制树深度，避免过度生长；\n",
    "2. 训练完成后，调用 `print_tree_details()` 在终端打印分裂节点，观察是否主要使用 `RawScore` 还是性别、族裔特征；\n",
    "3. 打印准确率、混淆矩阵、分类报告，查看是否能区分四个类别。\n",
    "\n",
    "最后可选 `plot_tree()` 进行图形化可视化。"
   ]
  },
  {
   "cell_type": "code",
   "execution_count": null,
   "metadata": {},
   "outputs": [],
   "source": [
    "dt = DecisionTreeClassifier(max_depth=5, random_state=42)\n",
    "dt.fit(X_train, y_train)\n",
    "dt_pred = dt.predict(X_test)\n",
    "\n",
    "# 打印结构\n",
    "print(\"\\n===== Decision Tree Structure (RawScore + Scaled Sensitive) =====\")\n",
    "feature_names = X.columns.tolist()\n",
    "print_tree_details(dt, feature_names)\n",
    "\n",
    "# 查看评估指标\n",
    "print(\"\\nDecision Tree Accuracy:\", accuracy_score(y_test, dt_pred))\n",
    "print(\"Decision Tree Confusion Matrix:\\n\", confusion_matrix(y_test, dt_pred))\n",
    "print(\"Decision Tree Classification Report:\\n\", classification_report(y_test, dt_pred))"
   ]
  },
  {
   "cell_type": "markdown",
   "metadata": {},
   "source": [
    "### 7.1 决策树可视化\n",
    "\n",
    "通过 `plot_tree()` 绘制出整棵树的结构。建议：\n",
    "- 设置较大的 `figsize` 和 `dpi`；\n",
    "- 为 `feature_names` 和 `class_names` 指定更可读的标签；\n",
    "- 若树仍然太大或文字重叠，可以再调大 figsize 或限制显示层数（`max_depth=3`）。"
   ]
  },
  {
   "cell_type": "code",
   "execution_count": null,
   "metadata": {},
   "outputs": [],
   "source": [
    "plt.figure(figsize=(15, 8), dpi=200)\n",
    "plot_tree(\n",
    "    dt,\n",
    "    feature_names=feature_names,\n",
    "    class_names=[f\"Class_{c}\" for c in np.unique(y)],\n",
    "    filled=True\n",
    ")\n",
    "plt.show()"
   ]
  },
  {
   "cell_type": "markdown",
   "metadata": {},
   "source": [
    "## 实验结果解读与反思\n",
    "\n",
    "1. **KNN 准确率**：若在 90%+，表示在此数据上 KNN 拿到不错的性能；\n",
    "2. **决策树准确率**：通常在 88~89% 左右（含 `RawScore` 时），但对极少数类（-1）无法有效识别；\n",
    "3. **是否出现敏感特征**：在 `print_tree_details` 中，如果看到 `Sex_Code_Text_xxx`、`Ethnic_Code_Text_xxx` 在高层节点出现，说明模型对它们依赖较大；\n",
    "4. **RawScore 频繁分裂**：若根节点和多层都在用 `RawScore <= 某阈值`，说明它对区分度最强；\n",
    "5. **缩放敏感特征**：在决策树中往往不影响分裂顺序，因为树基于信息增益，而非距离或线性系数。结果可能显示准确率与未缩放几乎相同。\n",
    "\n",
    "## 后续可以做的对比实验\n",
    "1. **移除 RawScore**：看看准确率会不会大幅下降；\n",
    "2. **不缩放敏感特征**：比较决策树结构是否有明显变化；\n",
    "3. **多分类不平衡处理**：对 -1 类样本做上采样或加权，看能否提升对该类的识别；\n",
    "4. **公平性分析**：若关心模型对不同族裔或性别的 FPR、FNR 差异，可引入 [Fairlearn](https://fairlearn.org/) 进行更深入的分组评估。"
   ]
  },
  {
   "cell_type": "markdown",
   "metadata": {},
   "source": [
    "### 小结\n",
    "\n",
    "通过这份 Notebook，您可以：\n",
    "1. **直观感受**：`RawScore` 在 COMPAS 数据中的区分度极高，一旦移除准确率严重下滑；\n",
    "2. **了解决策树**：可视化后，能看到哪些特征被优先分裂，是否依赖敏感属性；\n",
    "3. **警示潜在偏见**：`RawScore` 可能暗含对特定群体的歧视倾向，敏感特征（性别、族裔）也在分裂中出现，需要从公平性视角进一步审视。"
   ]
  },
  {
   "cell_type": "markdown",
   "metadata": {},
   "source": [
    "---\n",
    "**完**"
   ]
  }
 ],
 "metadata": {
  "kernelspec": {
   "display_name": "Python 3",
   "language": "python",
   "name": "python3"
  },
  "language_info": {
   "name": "python",
   "version": "3.10.16"
  }
 },
 "nbformat": 4,
 "nbformat_minor": 5
}
