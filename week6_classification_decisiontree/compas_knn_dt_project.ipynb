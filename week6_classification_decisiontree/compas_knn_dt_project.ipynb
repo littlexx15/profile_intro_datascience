version https://git-lfs.github.com/spec/v1
oid sha256:c552e4db92427919a0cf010c83a270a1704800e2aaa280c8f7a23a0c38668cc3
size 1030322
