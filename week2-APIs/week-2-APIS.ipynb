{
 "cells": [
  {
   "cell_type": "markdown",
   "metadata": {},
   "source": [
    "# Image Search and Color Clustering Based on the Unsplash API\n",
    "\n",
    "This project utilizes the Unsplash API along with the K-Means clustering algorithm to create an interactive web application that enables users to filter pattern or texture images by color. Given that the Unsplash API permits a maximum of 50 requests per hour, the project integrates both frontend interactions and backend image processing to allow users to intuitively browse images that meet their color criteria.\n",
    "\n",
    "## Project Execution\n",
    "\n",
    "### Activate the Environment: ：\n",
    "```bash\n",
    "conda activate aim"
   ]
  },
  {
   "cell_type": "markdown",
   "metadata": {},
   "source": [
    "#### Run the Application: \n",
    "```bash\n",
    "streamlit run week2-APIs/App_SplashPatterns.py\n",
    "\n"
   ]
  },
  {
   "cell_type": "markdown",
   "metadata": {},
   "source": [
    "## 1. Dependencies and Project Structure\n",
    "\n",
    "The project relies on the following key libraries:   \n",
    "\n",
    "- **Streamlit**: For rapid development of interactive web applications.   \n",
    "- **requests**：To handle HTTP requests for interacting with the Unsplash API. \n",
    "- **numpy、cv2、sklearn.cluster（KMeans）、skimage**：For image processing and clustering analysis.   \n",
    "- **PIL**：For reading and basic image processing.   "
   ]
  },
  {
   "cell_type": "code",
   "execution_count": 2,
   "metadata": {},
   "outputs": [
    {
     "name": "stdout",
     "output_type": "stream",
     "text": [
      "Libraries imported successfully.\n"
     ]
    }
   ],
   "source": [
    "import streamlit as st\n",
    "import requests\n",
    "import numpy as np\n",
    "import cv2\n",
    "from sklearn.cluster import KMeans\n",
    "from skimage import color\n",
    "from io import BytesIO\n",
    "from PIL import Image\n"
   ]
  },
  {
   "cell_type": "markdown",
   "metadata": {},
   "source": [
    "## 2. Custom Frontend Styling and Main Title \n",
    "\n",
    "To enhance the page’s visual appeal and improve data presentation clarity, custom CSS was incorporated into Streamlit. Key optimizations include:   \n",
    "\n",
    "- **Sidebar**: Added background color and shadow effects for better structural clarity.    \n",
    "\n",
    "- **Main Title**: Center-aligned, bold, enlarged font, and increased letter spacing for emphasis.    \n",
    "\n",
    "- **Buttons and Dropdowns**: Adjusted spacing and styling for smoother interactions.   "
   ]
  },
  {
   "cell_type": "code",
   "execution_count": 7,
   "metadata": {},
   "outputs": [
    {
     "name": "stderr",
     "output_type": "stream",
     "text": [
      "2025-03-18 17:22:17.383 Thread 'MainThread': missing ScriptRunContext! This warning can be ignored when running in bare mode.\n",
      "2025-03-18 17:22:17.385 Thread 'MainThread': missing ScriptRunContext! This warning can be ignored when running in bare mode.\n",
      "2025-03-18 17:22:17.386 Thread 'MainThread': missing ScriptRunContext! This warning can be ignored when running in bare mode.\n",
      "2025-03-18 17:22:17.387 Thread 'MainThread': missing ScriptRunContext! This warning can be ignored when running in bare mode.\n"
     ]
    },
    {
     "data": {
      "text/plain": [
       "DeltaGenerator()"
      ]
     },
     "execution_count": 7,
     "metadata": {},
     "output_type": "execute_result"
    }
   ],
   "source": [
    "st.markdown(\"\"\"\n",
    "    <style>\n",
    "    /* Add a background color and subtle shadow to the left sidebar to enhance layering */\n",
    "    [data-testid=\"stSidebar\"] {\n",
    "        background-color: #f8f9fa;\n",
    "        box-shadow: 2px 0 5px rgba(0, 0, 0, 0.1);\n",
    "    }\n",
    "\n",
    "    /* Main title style: larger font size, increased letter spacing, and reduced bottom margin */\n",
    "    .main-title {\n",
    "        font-size: 3rem;        \n",
    "        letter-spacing: 2px;    \n",
    "        font-weight: 700;\n",
    "        margin-bottom: 0.5rem;  \n",
    "        text-align: center;     \n",
    "    }\n",
    "\n",
    "    /* Sidebar title style */\n",
    "    [data-testid=\"stSidebar\"] h2 {\n",
    "        font-size: 1.25rem;\n",
    "        font-weight: 700;\n",
    "        margin-bottom: 0.5rem;\n",
    "        letter-spacing: 1px;\n",
    "    }\n",
    "\n",
    "    /* Default spacing between dropdown and button */\n",
    "    .stSelectbox, .stButton {\n",
    "        margin-bottom: 1rem;\n",
    "    }\n",
    "\n",
    "    /* Optimize button appearance and size */\n",
    "    .stButton > button {\n",
    "        font-size: 16px;\n",
    "        padding: 0.5rem 1.5rem; \n",
    "        border-radius: 4px;\n",
    "        background-color: #cccccc; \n",
    "        color: #333;               \n",
    "        border: none;\n",
    "        transition: background-color 0.3s ease;\n",
    "    }\n",
    "    .stButton > button:hover {\n",
    "        background-color: #bbbbbb;\n",
    "    }\n",
    "    </style>\n",
    "\"\"\", unsafe_allow_html=True)\n",
    "\n",
    "st.markdown(\"<h1 class='main-title'>SplashPatterns</h1>\", unsafe_allow_html=True)"
   ]
  },
  {
   "cell_type": "markdown",
   "metadata": {},
   "source": [
    "**【output】**：\n",
    "\n",
    "![示例图片](image/custom_css.png)\n",
    "\n",
    "When you visit **localhost:8501** in your browser, the page clearly demonstrates the enhancements: the main title is centered and bold, the sidebar uses a light gray background with added shadow for depth, and the buttons change color on hover for improved interactivity."
   ]
  },
  {
   "cell_type": "markdown",
   "metadata": {},
   "source": [
    "## 3. Unsplash API Integration and Data Retrieval\n",
    "\n",
    "A function is created to search for images using the Unsplash API. This function fetches the search results for a single page and returns the URLs of the images in their 'regular' size. It also supports a **color** parameter, enabling users to filter images based on color using Unsplash’s built-in color filtering feature."
   ]
  },
  {
   "cell_type": "code",
   "execution_count": 4,
   "metadata": {},
   "outputs": [
    {
     "name": "stdout",
     "output_type": "stream",
     "text": [
      "search_unsplash_single_page function defined.\n"
     ]
    }
   ],
   "source": [
    "UNSPLASH_ACCESS_KEY = \"cV2Slomwnm9YY0dp_lRF40J2QGatJfmmPxwJyzyZIlA\" \n",
    "UNSPLASH_SEARCH_URL = \"https://api.unsplash.com/search/photos\"\n",
    "\n",
    "def search_unsplash_single_page(query, per_page=24, page=1, color=None):\n",
    "    \"\"\"\n",
    "    Searches for images on Unsplash for a single page and returns a list of 'regular' image URLs.\n",
    "    If a color parameter is provided, Unsplash's built-in color filter is applied.\n",
    "    \"\"\"\n",
    "    headers = {\"Authorization\": f\"Client-ID {UNSPLASH_ACCESS_KEY}\"}\n",
    "    params = {\n",
    "        \"query\": query,\n",
    "        \"page\": page,\n",
    "        \"per_page\": per_page\n",
    "    }\n",
    "    if color:\n",
    "        params[\"color\"] = color\n",
    "\n",
    "    try:\n",
    "        response = requests.get(UNSPLASH_SEARCH_URL, headers=headers, params=params)\n",
    "        if response.status_code != 200:\n",
    "            st.warning(f\"Unsplash API returned an error: {response.status_code}\")\n",
    "            return []\n",
    "        data = response.json()\n",
    "    except Exception as e:\n",
    "        st.error(f\"Error requesting the Unsplash API: {e}\")\n",
    "        return []\n",
    "\n",
    "    image_urls = []\n",
    "    for item in data.get(\"results\", []):\n",
    "        url = item.get(\"urls\", {}).get(\"regular\")\n",
    "        if url:\n",
    "            image_urls.append(url)\n",
    "    return image_urls\n",
    "\n",
    "print(\"search_unsplash_single_page function defined.\")\n"
   ]
  },
  {
   "cell_type": "markdown",
   "metadata": {},
   "source": [
    "## 4. Sidebar Input and Session State\n",
    "\n",
    "A color selection dropdown is added to the sidebar, allowing users to filter images by color based on Unsplash’s built-in options. Simultaneously, Streamlit's session state is initialized to store image data and the current page number.\n",
    "\n",
    "![示例图片](image/search_white.png)\n",
    "\n",
    "> Note: In actual testing, I found that even when setting **color=white**, the returned images still include blue, multicolored, and even black content. This may be because Unsplash’s image tagging relies on human or algorithmic recognition, which can introduce certain inaccuracies."
   ]
  },
  {
   "cell_type": "code",
   "execution_count": 8,
   "metadata": {},
   "outputs": [
    {
     "name": "stderr",
     "output_type": "stream",
     "text": [
      "2025-03-18 17:39:52.866 Thread 'MainThread': missing ScriptRunContext! This warning can be ignored when running in bare mode.\n",
      "2025-03-18 17:39:52.868 Thread 'MainThread': missing ScriptRunContext! This warning can be ignored when running in bare mode.\n",
      "2025-03-18 17:39:52.870 Thread 'MainThread': missing ScriptRunContext! This warning can be ignored when running in bare mode.\n",
      "2025-03-18 17:39:52.872 Thread 'MainThread': missing ScriptRunContext! This warning can be ignored when running in bare mode.\n",
      "2025-03-18 17:39:52.873 Thread 'MainThread': missing ScriptRunContext! This warning can be ignored when running in bare mode.\n",
      "2025-03-18 17:39:52.874 Thread 'MainThread': missing ScriptRunContext! This warning can be ignored when running in bare mode.\n",
      "2025-03-18 17:39:52.874 Thread 'MainThread': missing ScriptRunContext! This warning can be ignored when running in bare mode.\n",
      "2025-03-18 17:39:52.875 Thread 'MainThread': missing ScriptRunContext! This warning can be ignored when running in bare mode.\n"
     ]
    },
    {
     "name": "stdout",
     "output_type": "stream",
     "text": [
      "Sidebar inputs and session state initialized.\n"
     ]
    }
   ],
   "source": [
    "# st.sidebar.header(\"Tone Selector\")\n",
    "# Users can only choose a color and whether to apply K-Means for secondary filtering.\n",
    "colors = [\n",
    "    \"None\", \"black_and_white\", \"black\", \"white\", \"yellow\", \"orange\",\n",
    "    \"red\", \"purple\", \"magenta\", \"green\", \"teal\", \"blue\"\n",
    "]\n",
    "selected_color = st.sidebar.selectbox(\"Select a color (Unsplash filter)\", colors)\n",
    "\n",
    "# Initialize Session State\n",
    "if \"images\" not in st.session_state:\n",
    "    st.session_state[\"images\"] = []\n",
    "if \"page\" not in st.session_state:\n",
    "    st.session_state[\"page\"] = 1\n",
    "\n",
    "print(\"Sidebar inputs and session state initialized.\")\n"
   ]
  },
  {
   "cell_type": "markdown",
   "metadata": {},
   "source": [
    "## 5. Image Loading Function and “Search” Button Logic\n",
    "\n",
    "A **load_images** function is defined to fetch image URLs from the Unsplash API based on the current page stored in the session state. The default search keyword is set to \"pattern\", and the function supports pagination. When the \"Show Patterns\" button in the sidebar is clicked, the session state is reset, and the function loads images from the first three pages (a total of 72 images)."
   ]
  },
  {
   "cell_type": "code",
   "execution_count": 9,
   "metadata": {},
   "outputs": [
    {
     "name": "stderr",
     "output_type": "stream",
     "text": [
      "2025-03-18 17:40:02.195 Thread 'MainThread': missing ScriptRunContext! This warning can be ignored when running in bare mode.\n",
      "2025-03-18 17:40:02.196 Thread 'MainThread': missing ScriptRunContext! This warning can be ignored when running in bare mode.\n",
      "2025-03-18 17:40:02.197 Thread 'MainThread': missing ScriptRunContext! This warning can be ignored when running in bare mode.\n",
      "2025-03-18 17:40:02.197 Thread 'MainThread': missing ScriptRunContext! This warning can be ignored when running in bare mode.\n",
      "2025-03-18 17:40:02.198 Thread 'MainThread': missing ScriptRunContext! This warning can be ignored when running in bare mode.\n"
     ]
    }
   ],
   "source": [
    "def load_images(color=None):\n",
    "    \"\"\"\n",
    "    Uses a fixed search keyword \"pattern\" and retrieves images based on st.session_state[\"page\"],\n",
    "    appending the results to st.session_state[\"images\"].\n",
    "    \"\"\"\n",
    "    query = \"pattern\"\n",
    "    new_urls = search_unsplash_single_page(\n",
    "        query,\n",
    "        per_page=24,\n",
    "        page=st.session_state[\"page\"],\n",
    "        color=color\n",
    "    )\n",
    "    st.session_state[\"images\"].extend(new_urls)\n",
    "\n",
    "if st.sidebar.button(\"Show Patterns\"):\n",
    "    # Reset session state for a new search\n",
    "    st.session_state[\"page\"] = 1\n",
    "    st.session_state[\"images\"] = []\n",
    "\n",
    "    c = None if selected_color == \"None\" else selected_color\n",
    "    # Load data from the first 3 pages\n",
    "    for page_idx in range(1, 4):\n",
    "        st.session_state[\"page\"] = page_idx\n",
    "        load_images(color=c)\n"
   ]
  },
  {
   "cell_type": "markdown",
   "metadata": {},
   "source": [
    "## 6. K-Means Clustering for Secondary Color Filtering\n",
    "\n",
    "After the images have been loaded, if the user checks the \"Refine with K-Means\" box and selects a color other than the default \"None\", the system uses the K-Means algorithm to further filter and sort images based on their dominant color tones. The code defines a color mapping, functions for converting between RGB and Lab color spaces, and a function for calculating Euclidean distance. These methods help in identifying images whose dominant colors best match the user’s selected color.\n",
    "\n",
    "> In the provided example, the initial number of clusters is set to **k=3**. In subsequent experiments, values such as **k=1** and **k=8** were tested to observe the effect of different parameters on the filtering results. Although adjusting **k** theoretically allows the algorithm to capture more color information, focusing solely on the largest cluster's center may not fully leverage this information."
   ]
  },
  {
   "cell_type": "code",
   "execution_count": null,
   "metadata": {},
   "outputs": [],
   "source": [
    "refine_color = st.sidebar.checkbox(\"Refine with K-Means\")\n",
    "\n",
    "if st.session_state[\"images\"]:\n",
    "    if refine_color and selected_color != \"None\":\n",
    "        # Color mapping (RGB values are in the range 0-1)\n",
    "        color_map = {\n",
    "            \"black\": (0, 0, 0),\n",
    "            \"white\": (1, 1, 1),\n",
    "            \"yellow\": (1, 1, 0),\n",
    "            \"orange\": (1, 0.65, 0),\n",
    "            \"red\": (1, 0, 0),\n",
    "            \"purple\": (0.5, 0, 0.5),\n",
    "            \"magenta\": (1, 0, 1),\n",
    "            \"green\": (0, 1, 0),\n",
    "            \"teal\": (0, 0.5, 0.5),\n",
    "            \"blue\": (0, 0, 1),\n",
    "            \"black_and_white\": (0.5, 0.5, 0.5)\n",
    "        }\n",
    "        target_rgb = color_map.get(selected_color, (0.5, 0.5, 0.5))\n",
    "        \n",
    "        def rgb_to_lab(rgb):\n",
    "            \"\"\"Convert (r, g, b) [0,1] to Lab color space.\"\"\"\n",
    "            arr = np.array(rgb).reshape(1, 1, 3)\n",
    "            lab = color.rgb2lab(arr)\n",
    "            return lab[0, 0, :]\n",
    "\n",
    "        target_lab = rgb_to_lab(target_rgb)\n",
    "\n",
    "        def get_dominant_color(img, k=3):\n",
    "            \"\"\"\n",
    "            Uses K-Means to extract the dominant color from an image (choosing the cluster center with the most pixels).\n",
    "            Returns (r, g, b) with values in the range 0-1.\n",
    "            \"\"\"\n",
    "            img = np.array(img.resize((100, 100)))\n",
    "            img = img.reshape(-1, 3).astype(np.float32) / 255.0\n",
    "            km = KMeans(n_clusters=k, random_state=42).fit(img)\n",
    "            labels, counts = np.unique(km.labels_, return_counts=True)\n",
    "            major_cluster = labels[np.argmax(counts)]\n",
    "            dominant_rgb = km.cluster_centers_[major_cluster]\n",
    "            return dominant_rgb\n",
    "\n",
    "        def color_distance(c1, c2):\n",
    "            \"\"\"Calculates the Euclidean distance between two Lab colors.\"\"\"\n",
    "            return np.sqrt(np.sum((c1 - c2) ** 2))\n",
    "\n",
    "        refined_data = []\n",
    "        for url in st.session_state[\"images\"]:\n",
    "            try:\n",
    "                resp = requests.get(url, timeout=5)\n",
    "                if resp.status_code == 200:\n",
    "                    img_pil = Image.open(BytesIO(resp.content)).convert(\"RGB\")\n",
    "                    dom_rgb = get_dominant_color(img_pil, k=3)\n",
    "                    dist = color_distance(rgb_to_lab(dom_rgb), target_lab)\n",
    "                    refined_data.append((url, dist))\n",
    "            except Exception as e:\n",
    "                # Skip this image if downloading or processing fails\n",
    "                pass\n",
    "\n",
    "        # Sort images by increasing color distance and keep only the top N images\n",
    "        refined_data.sort(key=lambda x: x[1])\n",
    "        top_n = 200\n",
    "        refined_data = refined_data[:top_n]\n",
    "        st.session_state[\"images\"] = [x[0] for x in refined_data]\n"
   ]
  },
  {
   "cell_type": "markdown",
   "metadata": {},
   "source": [
    "### Example Comparison\n",
    "\n",
    "![Example Comparison](image/comparison_k.png)\n",
    "\n",
    "Experimental results indicate that while K-Means can analyze the dominant colors in an image, the Unsplash API’s built-in color filtering is already quite accurate. Consequently, additional clustering-based refinements do not significantly enhance the overall image display. Moreover, although increasing the number of clusters (e.g., k=8) can theoretically capture more color information, simply taking the center of the largest cluster may not fully utilize that additional data."
   ]
  },
  {
   "cell_type": "markdown",
   "metadata": {},
   "source": [
    "## 7. Displaying Images and the \"Load More\" Button\n",
    "\n",
    "Using Streamlit’s **st.columns()** layout, images are displayed in a grid with four columns. When the \"Load More\" button is clicked, the page number increments by 1 and additional images are loaded."
   ]
  },
  {
   "cell_type": "code",
   "execution_count": null,
   "metadata": {},
   "outputs": [],
   "source": [
    "num_cols = 4\n",
    "cols = st.columns(num_cols)\n",
    "for idx, url in enumerate(st.session_state[\"images\"]):\n",
    "    with cols[idx % num_cols]:\n",
    "        st.image(url, use_container_width=True)\n",
    "\n",
    "if st.button(\"Load More\"):\n",
    "    st.session_state[\"page\"] += 1\n",
    "    c = None if selected_color == \"None\" else selected_color\n",
    "    load_images(color=c)\n",
    "elif st.session_state[\"page\"] == 1:\n",
    "    st.write(\"No images to display. Please click 'Show Patterns' on the sidebar.\")\n"
   ]
  },
  {
   "cell_type": "markdown",
   "metadata": {},
   "source": [
    "## 8. Understanding the Data and Statistics\n",
    "\n",
    "This project has provided a clearer understanding of the limitations inherent in using color clustering as an unsupervised learning method. Despite multiple parameter adjustments, the accuracy of extracting a dominant color from complex images remains limited. This observation aligns with the viewpoints expressed by Gugelmann Galaxy （http://www.mathiasbernhard.ch/gugelmann/）and FeatureInsight （https://www.microsoft.com/en-us/research/wp-content/uploads/2016/09/FeatureInsight.VAST2015.pdf）: even advanced machine recognition techniques can struggle to accurately classify the multifaceted painting techniques and mixed color palettes present in artworks.\n",
    "\n",
    "Additionally, I discovered a new insight during this experiment. Sometimes, websites do not insist on achieving absolute color accuracy by rigidly enforcing exact color matching. Instead, they incorporate a certain degree of tolerance—meaning that even if a color isn’t perfectly matched, images with hues that are close enough will still be displayed to users. This approach helps users explore a broader range of potential images."
   ]
  },
  {
   "cell_type": "markdown",
   "metadata": {},
   "source": [
    "## 9. Ethical Considerations and LLM Disclaimer\n",
    "\n",
    "Throughout the development of this project, strict adherence to Unsplash’s terms of use was maintained, ensuring respect for copyright and compliance with API rate limits. Data processing and storage practices were implemented with a focus on privacy and compliance, avoiding excessive data scraping or misuse.\n",
    "\n",
    "It is also noted that the project’s code was generated with the assistance of a language model, with subsequent modifications made through specific instructions. "
   ]
  }
 ],
 "metadata": {
  "kernelspec": {
   "display_name": "Python 3",
   "language": "python",
   "name": "python3"
  },
  "language_info": {
   "codemirror_mode": {
    "name": "ipython",
    "version": 3
   },
   "file_extension": ".py",
   "mimetype": "text/x-python",
   "name": "python",
   "nbconvert_exporter": "python",
   "pygments_lexer": "ipython3",
   "version": "3.10.16"
  }
 },
 "nbformat": 4,
 "nbformat_minor": 2
}
